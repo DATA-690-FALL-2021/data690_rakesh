{
  "nbformat": 4,
  "nbformat_minor": 0,
  "metadata": {
    "colab": {
      "name": "Assignment_01.ipynb",
      "provenance": [],
      "authorship_tag": "ABX9TyOWiwtPjIXUpaAbqzt4jK6w",
      "include_colab_link": true
    },
    "kernelspec": {
      "name": "python3",
      "display_name": "Python 3"
    },
    "language_info": {
      "name": "python"
    }
  },
  "cells": [
    {
      "cell_type": "markdown",
      "metadata": {
        "id": "view-in-github",
        "colab_type": "text"
      },
      "source": [
        "<a href=\"https://colab.research.google.com/github/rakeshp1/data690_rakesh/blob/main/assignment_01/Assignment_01.ipynb\" target=\"_parent\"><img src=\"https://colab.research.google.com/assets/colab-badge.svg\" alt=\"Open In Colab\"/></a>"
      ]
    },
    {
      "cell_type": "markdown",
      "metadata": {
        "id": "0wadojJ9ON5R"
      },
      "source": [
        "# assignment 1 for data 690 fall 2021\n",
        "* instructor: Dr jay\n",
        "* student: Rakesh"
      ]
    },
    {
      "cell_type": "markdown",
      "metadata": {
        "id": "90yEltU8QoQZ"
      },
      "source": [
        "## 1. simplest python code"
      ]
    },
    {
      "cell_type": "code",
      "metadata": {
        "colab": {
          "base_uri": "https://localhost:8080/"
        },
        "id": "rbYP0YQfPQsg",
        "outputId": "52d59a5c-bc6a-4661-ac82-c8036ca96fe8"
      },
      "source": [
        "print (\"hello wolrd\")\n"
      ],
      "execution_count": 1,
      "outputs": [
        {
          "output_type": "stream",
          "name": "stdout",
          "text": [
            "hello wolrd\n"
          ]
        }
      ]
    },
    {
      "cell_type": "markdown",
      "metadata": {
        "id": "uF50A0nsQJ5b"
      },
      "source": [
        "## 2. perform multiflication"
      ]
    },
    {
      "cell_type": "code",
      "metadata": {
        "colab": {
          "base_uri": "https://localhost:8080/"
        },
        "id": "MijNmr6CPhWC",
        "outputId": "0f14a25d-e9cd-45ff-884e-387919253ce2"
      },
      "source": [
        "\n",
        "x = 10 * 2\n",
        "print(x)"
      ],
      "execution_count": 2,
      "outputs": [
        {
          "output_type": "stream",
          "name": "stdout",
          "text": [
            "20\n"
          ]
        }
      ]
    },
    {
      "cell_type": "markdown",
      "metadata": {
        "id": "AWdCJ4qQQS5Y"
      },
      "source": [
        "## 3. perform division"
      ]
    },
    {
      "cell_type": "code",
      "metadata": {
        "colab": {
          "base_uri": "https://localhost:8080/"
        },
        "id": "iotNknVGPqba",
        "outputId": "aa9c5d36-dadd-4b58-ee30-9e2516f0ea45"
      },
      "source": [
        "y = 100\n",
        "z = y/x\n",
        "print(z)"
      ],
      "execution_count": 4,
      "outputs": [
        {
          "output_type": "stream",
          "name": "stdout",
          "text": [
            "5.0\n"
          ]
        }
      ]
    }
  ]
}