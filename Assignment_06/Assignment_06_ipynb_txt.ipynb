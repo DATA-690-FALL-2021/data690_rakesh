{
  "nbformat": 4,
  "nbformat_minor": 0,
  "metadata": {
    "kernelspec": {
      "display_name": "Python 3",
      "language": "python",
      "name": "python3"
    },
    "language_info": {
      "codemirror_mode": {
        "name": "ipython",
        "version": 3
      },
      "file_extension": ".py",
      "mimetype": "text/x-python",
      "name": "python",
      "nbconvert_exporter": "python",
      "pygments_lexer": "ipython3",
      "version": "3.7.1"
    },
    "colab": {
      "name": "Assignment_06.ipynb.txt",
      "provenance": [],
      "include_colab_link": true
    }
  },
  "cells": [
    {
      "cell_type": "markdown",
      "metadata": {
        "id": "view-in-github",
        "colab_type": "text"
      },
      "source": [
        "<a href=\"https://colab.research.google.com/github/rakeshp1/data690_rakesh/blob/main/Assignment_06/Assignment_06_ipynb_txt.ipynb\" target=\"_parent\"><img src=\"https://colab.research.google.com/assets/colab-badge.svg\" alt=\"Open In Colab\"/></a>"
      ]
    },
    {
      "cell_type": "markdown",
      "metadata": {
        "id": "02rFSC_-6zKz"
      },
      "source": [
        "## Assignment 06\n",
        "### Note:\n",
        "- For visualization, you should use Plotly Express \n",
        "- Use use this notebook as your template and follow the instructions\n",
        "\n",
        "The first half of this assignment is a repeat of assignment 05.\n",
        "\n",
        "This gives you a chance to refresh.\n",
        "\n",
        "The second half is new and gives you a chance to perform additional practices.\n",
        "\n",
        "You also get a chance to use some of the Python libraries and techniques.\n",
        "\n",
        "The links to the zip file is:\n",
        "\n",
        "- https://data.ed.gov/dataset/college-scorecard-all-data-files-through-6-2020/resources (The page containing link to the zip file)\n",
        "\n",
        "- https://ed-public-download.app.cloud.gov/downloads/CollegeScorecard_Raw_Data_01192021.zip (The link to download the zip file)\n",
        "\n",
        "You can upload the zip file there or run `!wget` command to retrieve it directly, then run `!unzip` command to extract files.\n",
        "\n",
        "You can also unzip and upload individual files to Colab. \n",
        "\n",
        "Your folder structure should look like this in your Colab enviroment:\n",
        "```\n",
        "- assignment_07.ipynb\n",
        "- raw_data/\n",
        "        - ...\n",
        "        - 'MERGED1996_97_PP.csv',\n",
        "        - 'MERGED2015_16_PP.csv',\n",
        "        - ...\n",
        "        - 'MERGED2017_18_PP.csv'\n",
        "        - ...\n",
        "```\n"
      ]
    },
    {
      "cell_type": "code",
      "metadata": {
        "id": "IlnBrYreEoY2",
        "colab": {
          "base_uri": "https://localhost:8080/"
        },
        "outputId": "caf4eb99-a0b3-49ed-d7f8-306ff9362713"
      },
      "source": [
        "!wget https://ed-public-download.app.cloud.gov/downloads/CollegeScorecard_Raw_Data_01192021.zip"
      ],
      "execution_count": 1,
      "outputs": [
        {
          "output_type": "stream",
          "name": "stdout",
          "text": [
            "--2021-10-14 15:42:13--  https://ed-public-download.app.cloud.gov/downloads/CollegeScorecard_Raw_Data_01192021.zip\n",
            "Resolving ed-public-download.app.cloud.gov (ed-public-download.app.cloud.gov)... 15.205.92.235, 15.200.243.39, 2600:1f12:18a:7d01:29c7:6ff5:8ad8:c8f0, ...\n",
            "Connecting to ed-public-download.app.cloud.gov (ed-public-download.app.cloud.gov)|15.205.92.235|:443... connected.\n",
            "HTTP request sent, awaiting response... 200 OK\n",
            "Length: 385541173 (368M) [application/zip]\n",
            "Saving to: ‘CollegeScorecard_Raw_Data_01192021.zip’\n",
            "\n",
            "CollegeScorecard_Ra 100%[===================>] 367.68M  35.1MB/s    in 11s     \n",
            "\n",
            "2021-10-14 15:42:25 (32.4 MB/s) - ‘CollegeScorecard_Raw_Data_01192021.zip’ saved [385541173/385541173]\n",
            "\n"
          ]
        }
      ]
    },
    {
      "cell_type": "code",
      "metadata": {
        "id": "WXcix8Q4EWzN",
        "colab": {
          "base_uri": "https://localhost:8080/"
        },
        "outputId": "4d454ff5-30a3-4afe-a9d3-0314ea978709"
      },
      "source": [
        "!unzip CollegeScorecard_Raw_Data_01192021.zip"
      ],
      "execution_count": 2,
      "outputs": [
        {
          "output_type": "stream",
          "name": "stdout",
          "text": [
            "Archive:  CollegeScorecard_Raw_Data_01192021.zip\n",
            "   creating: Raw Data Files/\n",
            "  inflating: Raw Data Files/MERGED2011_12_PP.csv  \n",
            "  inflating: Raw Data Files/MERGED1999_00_PP.csv  \n",
            "  inflating: Raw Data Files/MERGED2006_07_PP.csv  \n",
            "  inflating: Raw Data Files/MERGED2014_15_PP.csv  \n",
            "  inflating: Raw Data Files/Most-Recent-Cohorts-All-Data-Elements.csv  \n",
            "  inflating: __MACOSX/Raw Data Files/._Most-Recent-Cohorts-All-Data-Elements.csv  \n",
            "  inflating: Raw Data Files/MERGED2003_04_PP.csv  \n",
            "  inflating: Raw Data Files/MERGED1996_97_PP.csv  \n",
            "  inflating: Raw Data Files/FieldOfStudyData1516_1617_PP.csv  \n",
            "  inflating: Raw Data Files/Most-Recent-Cohorts-Field-of-Study.csv  \n",
            "  inflating: Raw Data Files/MERGED2012_13_PP.csv  \n",
            "  inflating: Raw Data Files/MERGED2005_06_PP.csv  \n",
            "  inflating: Raw Data Files/MERGED2009_10_PP.csv  \n",
            "  inflating: Raw Data Files/FieldOfStudyData1617_1718_PP.csv  \n",
            "  inflating: Raw Data Files/MERGED2018_19_PP.csv  \n",
            "  inflating: Raw Data Files/MERGED2017_18_PP.csv  \n",
            "  inflating: Raw Data Files/Crosswalks.zip  \n",
            "  inflating: __MACOSX/Raw Data Files/._Crosswalks.zip  \n",
            "  inflating: Raw Data Files/MERGED2000_01_PP.csv  \n",
            "  inflating: Raw Data Files/MERGED2001_02_PP.csv  \n",
            "  inflating: Raw Data Files/MERGED2016_17_PP.csv  \n",
            "  inflating: Raw Data Files/MERGED1997_98_PP.csv  \n",
            "  inflating: Raw Data Files/MERGED1998_99_PP.csv  \n",
            "  inflating: Raw Data Files/data.yaml  \n",
            "  inflating: Raw Data Files/MERGED2004_05_PP.csv  \n",
            "  inflating: Raw Data Files/MERGED2002_03_PP.csv  \n",
            "  inflating: Raw Data Files/MERGED2015_16_PP.csv  \n",
            "  inflating: Raw Data Files/MERGED2013_14_PP.csv  \n",
            "  inflating: Raw Data Files/MERGED2007_08_PP.csv  \n",
            "  inflating: Raw Data Files/MERGED2008_09_PP.csv  \n",
            "  inflating: Raw Data Files/MERGED2010_11_PP.csv  \n",
            "  inflating: Raw Data Files/FieldOfStudyData1415_1516_PP.csv  \n",
            "  inflating: __MACOSX/Raw Data Files/._FieldOfStudyData1415_1516_PP.csv  \n"
          ]
        }
      ]
    },
    {
      "cell_type": "code",
      "metadata": {
        "id": "CfSasSG36zK1"
      },
      "source": [
        "# <1> \n",
        "# Import libraries\n",
        "import pandas as pd\n",
        "import numpy as np\n",
        "import matplotlib.pyplot as plt \n",
        "import os\n",
        "\n",
        "\n",
        "#(Write code here)\n"
      ],
      "execution_count": 4,
      "outputs": []
    },
    {
      "cell_type": "code",
      "metadata": {
        "id": "duwKxi1L6zK5",
        "colab": {
          "base_uri": "https://localhost:8080/"
        },
        "outputId": "3ffd6d14-79a6-45de-ad94-51aedb3f10f2"
      },
      "source": [
        "# <2> \n",
        "# Display the current workin directory using os.getcwd()\n",
        "print(os.getcwd())\n",
        "# you would need to import a standard Python library called os which stands for operating system,\n",
        "# so place that import statement in the previous cell.\n",
        "# Since your notebook and your data files are not in # the same folder, \n",
        "# you want to make sure what is the current working folder and \n",
        "# how to access a data file in a different folder\n",
        "a = '/content/Raw Data Files'\n",
        "#(Write code here)\n",
        "file = os.listdir(a)\n"
      ],
      "execution_count": 5,
      "outputs": [
        {
          "output_type": "stream",
          "name": "stdout",
          "text": [
            "/content\n"
          ]
        }
      ]
    },
    {
      "cell_type": "code",
      "metadata": {
        "id": "LMBN0HsY6zLA"
      },
      "source": [
        "# <3> \n",
        "a = '/content/Raw Data Files'\n",
        "#(Write code here)\n",
        "file = os.listdir(a)\n",
        "\n",
        "# os library has a method call listdir which generates a list of files in a directory/folder.\n",
        "# use this method to assign the contents (list of file names) of the data folder to a variable and display it.\n",
        "# # You can use ../ construct to traverse to the parent folder and then to another foloder parallel to the current folder\n",
        "\n",
        "#(Write code here)\n"
      ],
      "execution_count": 6,
      "outputs": []
    },
    {
      "cell_type": "code",
      "metadata": {
        "id": "UCDRqtrf6zLL",
        "colab": {
          "base_uri": "https://localhost:8080/"
        },
        "outputId": "4cc8c9d1-81cc-43c9-d121-446f12a986a1"
      },
      "source": [
        "# <4> \n",
        "# The folder contains files that are not the yearly data files\n",
        "# write code to remove the unwanted files from the list vsriable \n",
        "# Note: don't remove/delete these files from the folder in your drive\n",
        "# For example, use the file extension to only keep the csv files \n",
        "# or use the name patter - data file name begins with \"MERGED\"\n",
        "# You can use the concept of list comprehension to write just \n",
        "# one line of code as well as using a for loop, your choice.\n",
        "files = [file for file in file if 'MERGED' in file]\n",
        "#(Write code here)\n",
        "files"
      ],
      "execution_count": 7,
      "outputs": [
        {
          "output_type": "execute_result",
          "data": {
            "text/plain": [
              "['MERGED2014_15_PP.csv',\n",
              " 'MERGED2008_09_PP.csv',\n",
              " 'MERGED2010_11_PP.csv',\n",
              " 'MERGED2001_02_PP.csv',\n",
              " 'MERGED2007_08_PP.csv',\n",
              " 'MERGED2016_17_PP.csv',\n",
              " 'MERGED1996_97_PP.csv',\n",
              " 'MERGED2009_10_PP.csv',\n",
              " 'MERGED2004_05_PP.csv',\n",
              " 'MERGED2011_12_PP.csv',\n",
              " 'MERGED2015_16_PP.csv',\n",
              " 'MERGED2000_01_PP.csv',\n",
              " 'MERGED2006_07_PP.csv',\n",
              " 'MERGED1999_00_PP.csv',\n",
              " 'MERGED2003_04_PP.csv',\n",
              " 'MERGED2012_13_PP.csv',\n",
              " 'MERGED1998_99_PP.csv',\n",
              " 'MERGED2005_06_PP.csv',\n",
              " 'MERGED2013_14_PP.csv',\n",
              " 'MERGED2002_03_PP.csv',\n",
              " 'MERGED2017_18_PP.csv',\n",
              " 'MERGED1997_98_PP.csv',\n",
              " 'MERGED2018_19_PP.csv']"
            ]
          },
          "metadata": {},
          "execution_count": 7
        }
      ]
    },
    {
      "cell_type": "code",
      "metadata": {
        "id": "rtrB8C_R6zLS"
      },
      "source": [
        "# <5> \n",
        "# Now that you have a clean list of the yearly files, you want to loop through them\n",
        "# and read them into a dataframe one at a time. You only load six columns: \n",
        "# [\"UNITID\", \"INSTNM\", \"STABBR\", \"REGION\", \"ADM_RATE\", \"TUITIONFEE_IN\"].\n",
        "# You should use \"usecols\" option of Pandas to avoid reading unwanted columns.\n",
        "# You also want to add a new column call \"YEAR\" to differentiate the data frames from each other.\n",
        "# The YEAR variable should be yyyy format so tht you can convert them into integer.\n",
        "# if you use the format yyyy-yy (such as 1997-98 school year), you will not be able to convert them directly to integer\n",
        "# if you use scatter plot, the YEAR needs to be converted to integer or float. \n",
        "# \n",
        "# You would use an empty list and append the yearly dataframes to the list.\n",
        "# After all data files are loaded and appended to the list, you would use Pandas to concatenate them into a \n",
        "# new single data frame.\n",
        "# Note: this exercise incorporates many techques we learned before\n",
        "# - list (creating an empty, append an item to the list)\n",
        "# - for loop \n",
        "# - read only the needed columns from a file (using usecols option)\n",
        "# - add a new column to a data frame\n",
        "# - concatenate multiple dataframes into a single one\n",
        "# This exercise may appear a big challenging but it worths the effort. You will learn a lot and  love it. I promise.\n",
        "\n",
        "df_list = []\n",
        "def read(x):\n",
        "    df = pd.read_csv(a+'/'+x,usecols=['UNITID','INSTNM','STABBR','REGION','ADM_RATE','TUITIONFEE_IN'])\n",
        "    df['year'] = x.split('_')[0].replace('MERGED','')\n",
        "    df_list.append(df)\n",
        "\n",
        "for x in files:\n",
        "    read(x)"
      ],
      "execution_count": 8,
      "outputs": []
    },
    {
      "cell_type": "code",
      "metadata": {
        "id": "wJsXvS_1bFDE"
      },
      "source": [
        "df1 = pd.concat(df_list)"
      ],
      "execution_count": 9,
      "outputs": []
    },
    {
      "cell_type": "code",
      "metadata": {
        "id": "riJxj3vU6zLY",
        "colab": {
          "base_uri": "https://localhost:8080/"
        },
        "outputId": "faece18c-073f-4533-b9d9-afc5cff6920e"
      },
      "source": [
        "# <6> \n",
        "# explore the new dataframe (# of observations, varibles, head, tail, sample, missing values, statistics,etc.)\n",
        "print(\"The Number of observatiosn\",df1.shape[0])\n",
        "\n"
      ],
      "execution_count": 10,
      "outputs": [
        {
          "output_type": "stream",
          "name": "stdout",
          "text": [
            "The Number of observatiosn 163331\n"
          ]
        }
      ]
    },
    {
      "cell_type": "code",
      "metadata": {
        "id": "EufejAy_c0yB",
        "colab": {
          "base_uri": "https://localhost:8080/"
        },
        "outputId": "5661f1ff-e83c-4ed1-8d87-9bbd22798971"
      },
      "source": [
        "df1.columns"
      ],
      "execution_count": 11,
      "outputs": [
        {
          "output_type": "execute_result",
          "data": {
            "text/plain": [
              "Index(['UNITID', 'INSTNM', 'STABBR', 'REGION', 'ADM_RATE', 'TUITIONFEE_IN',\n",
              "       'year'],\n",
              "      dtype='object')"
            ]
          },
          "metadata": {},
          "execution_count": 11
        }
      ]
    },
    {
      "cell_type": "code",
      "metadata": {
        "id": "8cJU-y1Uc39Q",
        "colab": {
          "base_uri": "https://localhost:8080/",
          "height": 204
        },
        "outputId": "e3de3fc3-877c-4c7c-f569-5a7bd957d85b"
      },
      "source": [
        "df1.head()"
      ],
      "execution_count": 12,
      "outputs": [
        {
          "output_type": "execute_result",
          "data": {
            "text/html": [
              "<div>\n",
              "<style scoped>\n",
              "    .dataframe tbody tr th:only-of-type {\n",
              "        vertical-align: middle;\n",
              "    }\n",
              "\n",
              "    .dataframe tbody tr th {\n",
              "        vertical-align: top;\n",
              "    }\n",
              "\n",
              "    .dataframe thead th {\n",
              "        text-align: right;\n",
              "    }\n",
              "</style>\n",
              "<table border=\"1\" class=\"dataframe\">\n",
              "  <thead>\n",
              "    <tr style=\"text-align: right;\">\n",
              "      <th></th>\n",
              "      <th>UNITID</th>\n",
              "      <th>INSTNM</th>\n",
              "      <th>STABBR</th>\n",
              "      <th>REGION</th>\n",
              "      <th>ADM_RATE</th>\n",
              "      <th>TUITIONFEE_IN</th>\n",
              "      <th>year</th>\n",
              "    </tr>\n",
              "  </thead>\n",
              "  <tbody>\n",
              "    <tr>\n",
              "      <th>0</th>\n",
              "      <td>100654</td>\n",
              "      <td>Alabama A &amp; M University</td>\n",
              "      <td>AL</td>\n",
              "      <td>5.0</td>\n",
              "      <td>0.5256</td>\n",
              "      <td>9096.0</td>\n",
              "      <td>2014</td>\n",
              "    </tr>\n",
              "    <tr>\n",
              "      <th>1</th>\n",
              "      <td>100663</td>\n",
              "      <td>University of Alabama at Birmingham</td>\n",
              "      <td>AL</td>\n",
              "      <td>5.0</td>\n",
              "      <td>0.8569</td>\n",
              "      <td>7510.0</td>\n",
              "      <td>2014</td>\n",
              "    </tr>\n",
              "    <tr>\n",
              "      <th>2</th>\n",
              "      <td>100690</td>\n",
              "      <td>Amridge University</td>\n",
              "      <td>AL</td>\n",
              "      <td>5.0</td>\n",
              "      <td>NaN</td>\n",
              "      <td>6900.0</td>\n",
              "      <td>2014</td>\n",
              "    </tr>\n",
              "    <tr>\n",
              "      <th>3</th>\n",
              "      <td>100706</td>\n",
              "      <td>University of Alabama in Huntsville</td>\n",
              "      <td>AL</td>\n",
              "      <td>5.0</td>\n",
              "      <td>0.8203</td>\n",
              "      <td>9158.0</td>\n",
              "      <td>2014</td>\n",
              "    </tr>\n",
              "    <tr>\n",
              "      <th>4</th>\n",
              "      <td>100724</td>\n",
              "      <td>Alabama State University</td>\n",
              "      <td>AL</td>\n",
              "      <td>5.0</td>\n",
              "      <td>0.5326</td>\n",
              "      <td>8720.0</td>\n",
              "      <td>2014</td>\n",
              "    </tr>\n",
              "  </tbody>\n",
              "</table>\n",
              "</div>"
            ],
            "text/plain": [
              "   UNITID                               INSTNM  ... TUITIONFEE_IN  year\n",
              "0  100654             Alabama A & M University  ...        9096.0  2014\n",
              "1  100663  University of Alabama at Birmingham  ...        7510.0  2014\n",
              "2  100690                   Amridge University  ...        6900.0  2014\n",
              "3  100706  University of Alabama in Huntsville  ...        9158.0  2014\n",
              "4  100724             Alabama State University  ...        8720.0  2014\n",
              "\n",
              "[5 rows x 7 columns]"
            ]
          },
          "metadata": {},
          "execution_count": 12
        }
      ]
    },
    {
      "cell_type": "code",
      "metadata": {
        "id": "Lb0fRc6Dc6em",
        "colab": {
          "base_uri": "https://localhost:8080/",
          "height": 204
        },
        "outputId": "fa0abe93-5ec7-45fc-ec60-03e7048a7633"
      },
      "source": [
        "df1.tail()"
      ],
      "execution_count": 13,
      "outputs": [
        {
          "output_type": "execute_result",
          "data": {
            "text/html": [
              "<div>\n",
              "<style scoped>\n",
              "    .dataframe tbody tr th:only-of-type {\n",
              "        vertical-align: middle;\n",
              "    }\n",
              "\n",
              "    .dataframe tbody tr th {\n",
              "        vertical-align: top;\n",
              "    }\n",
              "\n",
              "    .dataframe thead th {\n",
              "        text-align: right;\n",
              "    }\n",
              "</style>\n",
              "<table border=\"1\" class=\"dataframe\">\n",
              "  <thead>\n",
              "    <tr style=\"text-align: right;\">\n",
              "      <th></th>\n",
              "      <th>UNITID</th>\n",
              "      <th>INSTNM</th>\n",
              "      <th>STABBR</th>\n",
              "      <th>REGION</th>\n",
              "      <th>ADM_RATE</th>\n",
              "      <th>TUITIONFEE_IN</th>\n",
              "      <th>year</th>\n",
              "    </tr>\n",
              "  </thead>\n",
              "  <tbody>\n",
              "    <tr>\n",
              "      <th>6801</th>\n",
              "      <td>48511112</td>\n",
              "      <td>Georgia Military College - Dublin</td>\n",
              "      <td>GA</td>\n",
              "      <td>5.0</td>\n",
              "      <td>NaN</td>\n",
              "      <td>6120.0</td>\n",
              "      <td>2018</td>\n",
              "    </tr>\n",
              "    <tr>\n",
              "      <th>6802</th>\n",
              "      <td>48511113</td>\n",
              "      <td>Georgia Military College - Eastman</td>\n",
              "      <td>GA</td>\n",
              "      <td>5.0</td>\n",
              "      <td>NaN</td>\n",
              "      <td>6120.0</td>\n",
              "      <td>2018</td>\n",
              "    </tr>\n",
              "    <tr>\n",
              "      <th>6803</th>\n",
              "      <td>48616901</td>\n",
              "      <td>American College of Barbering - Florence</td>\n",
              "      <td>KY</td>\n",
              "      <td>5.0</td>\n",
              "      <td>NaN</td>\n",
              "      <td>NaN</td>\n",
              "      <td>2018</td>\n",
              "    </tr>\n",
              "    <tr>\n",
              "      <th>6804</th>\n",
              "      <td>49005401</td>\n",
              "      <td>HCI College - Fort Lauderdale Campus</td>\n",
              "      <td>FL</td>\n",
              "      <td>5.0</td>\n",
              "      <td>NaN</td>\n",
              "      <td>21420.0</td>\n",
              "      <td>2018</td>\n",
              "    </tr>\n",
              "    <tr>\n",
              "      <th>6805</th>\n",
              "      <td>49146401</td>\n",
              "      <td>ABC Adult School - Cabrillo Lane</td>\n",
              "      <td>CA</td>\n",
              "      <td>8.0</td>\n",
              "      <td>NaN</td>\n",
              "      <td>NaN</td>\n",
              "      <td>2018</td>\n",
              "    </tr>\n",
              "  </tbody>\n",
              "</table>\n",
              "</div>"
            ],
            "text/plain": [
              "        UNITID                                    INSTNM  ... TUITIONFEE_IN  year\n",
              "6801  48511112         Georgia Military College - Dublin  ...        6120.0  2018\n",
              "6802  48511113        Georgia Military College - Eastman  ...        6120.0  2018\n",
              "6803  48616901  American College of Barbering - Florence  ...           NaN  2018\n",
              "6804  49005401      HCI College - Fort Lauderdale Campus  ...       21420.0  2018\n",
              "6805  49146401          ABC Adult School - Cabrillo Lane  ...           NaN  2018\n",
              "\n",
              "[5 rows x 7 columns]"
            ]
          },
          "metadata": {},
          "execution_count": 13
        }
      ]
    },
    {
      "cell_type": "code",
      "metadata": {
        "id": "HZT2w5ryc9d3",
        "colab": {
          "base_uri": "https://localhost:8080/",
          "height": 204
        },
        "outputId": "cabe93d4-10d9-4082-964e-e17702acd86a"
      },
      "source": [
        "df1.sample(n=5)"
      ],
      "execution_count": 14,
      "outputs": [
        {
          "output_type": "execute_result",
          "data": {
            "text/html": [
              "<div>\n",
              "<style scoped>\n",
              "    .dataframe tbody tr th:only-of-type {\n",
              "        vertical-align: middle;\n",
              "    }\n",
              "\n",
              "    .dataframe tbody tr th {\n",
              "        vertical-align: top;\n",
              "    }\n",
              "\n",
              "    .dataframe thead th {\n",
              "        text-align: right;\n",
              "    }\n",
              "</style>\n",
              "<table border=\"1\" class=\"dataframe\">\n",
              "  <thead>\n",
              "    <tr style=\"text-align: right;\">\n",
              "      <th></th>\n",
              "      <th>UNITID</th>\n",
              "      <th>INSTNM</th>\n",
              "      <th>STABBR</th>\n",
              "      <th>REGION</th>\n",
              "      <th>ADM_RATE</th>\n",
              "      <th>TUITIONFEE_IN</th>\n",
              "      <th>year</th>\n",
              "    </tr>\n",
              "  </thead>\n",
              "  <tbody>\n",
              "    <tr>\n",
              "      <th>6226</th>\n",
              "      <td>417646</td>\n",
              "      <td>Saline County Career Center</td>\n",
              "      <td>MO</td>\n",
              "      <td>4.0</td>\n",
              "      <td>NaN</td>\n",
              "      <td>NaN</td>\n",
              "      <td>1998</td>\n",
              "    </tr>\n",
              "    <tr>\n",
              "      <th>4072</th>\n",
              "      <td>212285</td>\n",
              "      <td>Empire Beauty School-Williamsport</td>\n",
              "      <td>PA</td>\n",
              "      <td>2.0</td>\n",
              "      <td>NaN</td>\n",
              "      <td>NaN</td>\n",
              "      <td>1997</td>\n",
              "    </tr>\n",
              "    <tr>\n",
              "      <th>2091</th>\n",
              "      <td>173911</td>\n",
              "      <td>South Central College</td>\n",
              "      <td>MN</td>\n",
              "      <td>4.0</td>\n",
              "      <td>NaN</td>\n",
              "      <td>4515.0</td>\n",
              "      <td>2008</td>\n",
              "    </tr>\n",
              "    <tr>\n",
              "      <th>746</th>\n",
              "      <td>136701</td>\n",
              "      <td>Saint Vincent de Paul Regional Seminary</td>\n",
              "      <td>FL</td>\n",
              "      <td>5.0</td>\n",
              "      <td>NaN</td>\n",
              "      <td>NaN</td>\n",
              "      <td>2017</td>\n",
              "    </tr>\n",
              "    <tr>\n",
              "      <th>7440</th>\n",
              "      <td>475291</td>\n",
              "      <td>Sanford-Brown College-Brooklyn Center</td>\n",
              "      <td>MN</td>\n",
              "      <td>4.0</td>\n",
              "      <td>NaN</td>\n",
              "      <td>17100.0</td>\n",
              "      <td>2011</td>\n",
              "    </tr>\n",
              "  </tbody>\n",
              "</table>\n",
              "</div>"
            ],
            "text/plain": [
              "      UNITID                                   INSTNM  ... TUITIONFEE_IN  year\n",
              "6226  417646              Saline County Career Center  ...           NaN  1998\n",
              "4072  212285        Empire Beauty School-Williamsport  ...           NaN  1997\n",
              "2091  173911                    South Central College  ...        4515.0  2008\n",
              "746   136701  Saint Vincent de Paul Regional Seminary  ...           NaN  2017\n",
              "7440  475291    Sanford-Brown College-Brooklyn Center  ...       17100.0  2011\n",
              "\n",
              "[5 rows x 7 columns]"
            ]
          },
          "metadata": {},
          "execution_count": 14
        }
      ]
    },
    {
      "cell_type": "code",
      "metadata": {
        "id": "2i-6acpTc_vo",
        "colab": {
          "base_uri": "https://localhost:8080/"
        },
        "outputId": "218ee406-23e8-40f2-e10e-42d1bc5cefdc"
      },
      "source": [
        "df1.isnull().sum()"
      ],
      "execution_count": 15,
      "outputs": [
        {
          "output_type": "execute_result",
          "data": {
            "text/plain": [
              "UNITID                0\n",
              "INSTNM                0\n",
              "STABBR                0\n",
              "REGION                1\n",
              "ADM_RATE         118419\n",
              "TUITIONFEE_IN     84136\n",
              "year                  0\n",
              "dtype: int64"
            ]
          },
          "metadata": {},
          "execution_count": 15
        }
      ]
    },
    {
      "cell_type": "code",
      "metadata": {
        "id": "K4aWBGrsdD-H",
        "colab": {
          "base_uri": "https://localhost:8080/",
          "height": 297
        },
        "outputId": "01c59596-f836-4d52-b81d-57e3bf1fb784"
      },
      "source": [
        "df1.describe()"
      ],
      "execution_count": 16,
      "outputs": [
        {
          "output_type": "execute_result",
          "data": {
            "text/html": [
              "<div>\n",
              "<style scoped>\n",
              "    .dataframe tbody tr th:only-of-type {\n",
              "        vertical-align: middle;\n",
              "    }\n",
              "\n",
              "    .dataframe tbody tr th {\n",
              "        vertical-align: top;\n",
              "    }\n",
              "\n",
              "    .dataframe thead th {\n",
              "        text-align: right;\n",
              "    }\n",
              "</style>\n",
              "<table border=\"1\" class=\"dataframe\">\n",
              "  <thead>\n",
              "    <tr style=\"text-align: right;\">\n",
              "      <th></th>\n",
              "      <th>UNITID</th>\n",
              "      <th>REGION</th>\n",
              "      <th>ADM_RATE</th>\n",
              "      <th>TUITIONFEE_IN</th>\n",
              "    </tr>\n",
              "  </thead>\n",
              "  <tbody>\n",
              "    <tr>\n",
              "      <th>count</th>\n",
              "      <td>1.633310e+05</td>\n",
              "      <td>163330.000000</td>\n",
              "      <td>44912.000000</td>\n",
              "      <td>79195.000000</td>\n",
              "    </tr>\n",
              "    <tr>\n",
              "      <th>mean</th>\n",
              "      <td>9.432395e+05</td>\n",
              "      <td>4.554693</td>\n",
              "      <td>0.692951</td>\n",
              "      <td>11665.636871</td>\n",
              "    </tr>\n",
              "    <tr>\n",
              "      <th>std</th>\n",
              "      <td>4.571721e+06</td>\n",
              "      <td>2.189217</td>\n",
              "      <td>0.217058</td>\n",
              "      <td>9986.003542</td>\n",
              "    </tr>\n",
              "    <tr>\n",
              "      <th>min</th>\n",
              "      <td>1.006360e+05</td>\n",
              "      <td>0.000000</td>\n",
              "      <td>0.000000</td>\n",
              "      <td>0.000000</td>\n",
              "    </tr>\n",
              "    <tr>\n",
              "      <th>25%</th>\n",
              "      <td>1.633380e+05</td>\n",
              "      <td>3.000000</td>\n",
              "      <td>0.555075</td>\n",
              "      <td>3776.000000</td>\n",
              "    </tr>\n",
              "    <tr>\n",
              "      <th>50%</th>\n",
              "      <td>2.127800e+05</td>\n",
              "      <td>5.000000</td>\n",
              "      <td>0.717500</td>\n",
              "      <td>9285.000000</td>\n",
              "    </tr>\n",
              "    <tr>\n",
              "      <th>75%</th>\n",
              "      <td>4.075680e+05</td>\n",
              "      <td>6.000000</td>\n",
              "      <td>0.857100</td>\n",
              "      <td>16148.000000</td>\n",
              "    </tr>\n",
              "    <tr>\n",
              "      <th>max</th>\n",
              "      <td>4.914640e+07</td>\n",
              "      <td>9.000000</td>\n",
              "      <td>1.000000</td>\n",
              "      <td>74787.000000</td>\n",
              "    </tr>\n",
              "  </tbody>\n",
              "</table>\n",
              "</div>"
            ],
            "text/plain": [
              "             UNITID         REGION      ADM_RATE  TUITIONFEE_IN\n",
              "count  1.633310e+05  163330.000000  44912.000000   79195.000000\n",
              "mean   9.432395e+05       4.554693      0.692951   11665.636871\n",
              "std    4.571721e+06       2.189217      0.217058    9986.003542\n",
              "min    1.006360e+05       0.000000      0.000000       0.000000\n",
              "25%    1.633380e+05       3.000000      0.555075    3776.000000\n",
              "50%    2.127800e+05       5.000000      0.717500    9285.000000\n",
              "75%    4.075680e+05       6.000000      0.857100   16148.000000\n",
              "max    4.914640e+07       9.000000      1.000000   74787.000000"
            ]
          },
          "metadata": {},
          "execution_count": 16
        }
      ]
    },
    {
      "cell_type": "code",
      "metadata": {
        "id": "NQjKoDmU6zLd"
      },
      "source": [
        "# <7>\n",
        "# the dataframe contains many years of data of all U.S. colleges.\n",
        "# let's just look at UMBC\n",
        "# filter/query the dataframe to retrieve only rows that belong to UMBC\n",
        "# save the UMNC data to a new data frame. using a new variable \n",
        "# so that the old big data frame is still available for later use.\n",
        "df_umbc=df1.query('INSTNM==\"University of Maryland-Baltimore County\"')\n",
        "#(Write code here)\n"
      ],
      "execution_count": 17,
      "outputs": []
    },
    {
      "cell_type": "code",
      "metadata": {
        "id": "d5X87ugp6zLt",
        "colab": {
          "base_uri": "https://localhost:8080/"
        },
        "outputId": "9b7fce6f-cc95-4364-bb6c-3c9ae7f2a917"
      },
      "source": [
        "# <8>\n",
        "# Explore this UMBC dataframe (# of observations, varibles, head, tail, sample, missing values, statistics,etc.)\n",
        "df_umbc.shape[0]\n",
        "#(Write code here)"
      ],
      "execution_count": 18,
      "outputs": [
        {
          "output_type": "execute_result",
          "data": {
            "text/plain": [
              "23"
            ]
          },
          "metadata": {},
          "execution_count": 18
        }
      ]
    },
    {
      "cell_type": "code",
      "metadata": {
        "id": "uxGxV3bZf1Vy",
        "colab": {
          "base_uri": "https://localhost:8080/",
          "height": 204
        },
        "outputId": "16cb7d29-8c09-45a2-a0a2-7c7fd3b0077d"
      },
      "source": [
        "df_umbc.head()"
      ],
      "execution_count": 19,
      "outputs": [
        {
          "output_type": "execute_result",
          "data": {
            "text/html": [
              "<div>\n",
              "<style scoped>\n",
              "    .dataframe tbody tr th:only-of-type {\n",
              "        vertical-align: middle;\n",
              "    }\n",
              "\n",
              "    .dataframe tbody tr th {\n",
              "        vertical-align: top;\n",
              "    }\n",
              "\n",
              "    .dataframe thead th {\n",
              "        text-align: right;\n",
              "    }\n",
              "</style>\n",
              "<table border=\"1\" class=\"dataframe\">\n",
              "  <thead>\n",
              "    <tr style=\"text-align: right;\">\n",
              "      <th></th>\n",
              "      <th>UNITID</th>\n",
              "      <th>INSTNM</th>\n",
              "      <th>STABBR</th>\n",
              "      <th>REGION</th>\n",
              "      <th>ADM_RATE</th>\n",
              "      <th>TUITIONFEE_IN</th>\n",
              "      <th>year</th>\n",
              "    </tr>\n",
              "  </thead>\n",
              "  <tbody>\n",
              "    <tr>\n",
              "      <th>1610</th>\n",
              "      <td>163268</td>\n",
              "      <td>University of Maryland-Baltimore County</td>\n",
              "      <td>MD</td>\n",
              "      <td>2.0</td>\n",
              "      <td>0.5961</td>\n",
              "      <td>10384.0</td>\n",
              "      <td>2014</td>\n",
              "    </tr>\n",
              "    <tr>\n",
              "      <th>1767</th>\n",
              "      <td>163268</td>\n",
              "      <td>University of Maryland-Baltimore County</td>\n",
              "      <td>MD</td>\n",
              "      <td>2.0</td>\n",
              "      <td>0.7174</td>\n",
              "      <td>8780.0</td>\n",
              "      <td>2008</td>\n",
              "    </tr>\n",
              "    <tr>\n",
              "      <th>1710</th>\n",
              "      <td>163268</td>\n",
              "      <td>University of Maryland-Baltimore County</td>\n",
              "      <td>MD</td>\n",
              "      <td>2.0</td>\n",
              "      <td>0.6589</td>\n",
              "      <td>9171.0</td>\n",
              "      <td>2010</td>\n",
              "    </tr>\n",
              "    <tr>\n",
              "      <th>1915</th>\n",
              "      <td>163268</td>\n",
              "      <td>University of Maryland-Baltimore County</td>\n",
              "      <td>MD</td>\n",
              "      <td>2.0</td>\n",
              "      <td>0.6551</td>\n",
              "      <td>5910.0</td>\n",
              "      <td>2001</td>\n",
              "    </tr>\n",
              "    <tr>\n",
              "      <th>1779</th>\n",
              "      <td>163268</td>\n",
              "      <td>University of Maryland-Baltimore County</td>\n",
              "      <td>MD</td>\n",
              "      <td>2.0</td>\n",
              "      <td>0.6895</td>\n",
              "      <td>8708.0</td>\n",
              "      <td>2007</td>\n",
              "    </tr>\n",
              "  </tbody>\n",
              "</table>\n",
              "</div>"
            ],
            "text/plain": [
              "      UNITID                                   INSTNM  ... TUITIONFEE_IN  year\n",
              "1610  163268  University of Maryland-Baltimore County  ...       10384.0  2014\n",
              "1767  163268  University of Maryland-Baltimore County  ...        8780.0  2008\n",
              "1710  163268  University of Maryland-Baltimore County  ...        9171.0  2010\n",
              "1915  163268  University of Maryland-Baltimore County  ...        5910.0  2001\n",
              "1779  163268  University of Maryland-Baltimore County  ...        8708.0  2007\n",
              "\n",
              "[5 rows x 7 columns]"
            ]
          },
          "metadata": {},
          "execution_count": 19
        }
      ]
    },
    {
      "cell_type": "code",
      "metadata": {
        "id": "5Poy4ciz6zLy",
        "colab": {
          "base_uri": "https://localhost:8080/",
          "height": 312
        },
        "outputId": "c88cd1cb-033f-4542-a39d-5c36de6ee3d9"
      },
      "source": [
        "# <9> \n",
        "# Plot UMBC's in-state tution overtime from 1996 to 2019 using Bar Chart\n",
        "df_umbc=df_umbc.sort_values(by='year')\n",
        "df_umbc.plot(x=\"year\", y=[\"TUITIONFEE_IN\"], kind=\"bar\")\n",
        "#(Write code here)\n"
      ],
      "execution_count": 20,
      "outputs": [
        {
          "output_type": "execute_result",
          "data": {
            "text/plain": [
              "<matplotlib.axes._subplots.AxesSubplot at 0x7f4637d7c5d0>"
            ]
          },
          "metadata": {},
          "execution_count": 20
        },
        {
          "output_type": "display_data",
          "data": {
            "image/png": "[encoded data removed]",
            "text/plain": [
              "<Figure size 432x288 with 1 Axes>"
            ]
          },
          "metadata": {
            "needs_background": "light"
          }
        }
      ]
    },
    {
      "cell_type": "code",
      "metadata": {
        "id": "AxFths8Af3mI",
        "colab": {
          "base_uri": "https://localhost:8080/",
          "height": 204
        },
        "outputId": "7561fa2a-aebc-4e4e-b8f3-b439562e66d6"
      },
      "source": [
        "df_umbc.tail()"
      ],
      "execution_count": 21,
      "outputs": [
        {
          "output_type": "execute_result",
          "data": {
            "text/html": [
              "<div>\n",
              "<style scoped>\n",
              "    .dataframe tbody tr th:only-of-type {\n",
              "        vertical-align: middle;\n",
              "    }\n",
              "\n",
              "    .dataframe tbody tr th {\n",
              "        vertical-align: top;\n",
              "    }\n",
              "\n",
              "    .dataframe thead th {\n",
              "        text-align: right;\n",
              "    }\n",
              "</style>\n",
              "<table border=\"1\" class=\"dataframe\">\n",
              "  <thead>\n",
              "    <tr style=\"text-align: right;\">\n",
              "      <th></th>\n",
              "      <th>UNITID</th>\n",
              "      <th>INSTNM</th>\n",
              "      <th>STABBR</th>\n",
              "      <th>REGION</th>\n",
              "      <th>ADM_RATE</th>\n",
              "      <th>TUITIONFEE_IN</th>\n",
              "      <th>year</th>\n",
              "    </tr>\n",
              "  </thead>\n",
              "  <tbody>\n",
              "    <tr>\n",
              "      <th>1610</th>\n",
              "      <td>163268</td>\n",
              "      <td>University of Maryland-Baltimore County</td>\n",
              "      <td>MD</td>\n",
              "      <td>2.0</td>\n",
              "      <td>0.5961</td>\n",
              "      <td>10384.0</td>\n",
              "      <td>2014</td>\n",
              "    </tr>\n",
              "    <tr>\n",
              "      <th>1555</th>\n",
              "      <td>163268</td>\n",
              "      <td>University of Maryland-Baltimore County</td>\n",
              "      <td>MD</td>\n",
              "      <td>2.0</td>\n",
              "      <td>0.5942</td>\n",
              "      <td>11006.0</td>\n",
              "      <td>2015</td>\n",
              "    </tr>\n",
              "    <tr>\n",
              "      <th>1510</th>\n",
              "      <td>163268</td>\n",
              "      <td>University of Maryland-Baltimore County</td>\n",
              "      <td>MD</td>\n",
              "      <td>2.0</td>\n",
              "      <td>0.5683</td>\n",
              "      <td>11264.0</td>\n",
              "      <td>2016</td>\n",
              "    </tr>\n",
              "    <tr>\n",
              "      <th>1478</th>\n",
              "      <td>163268</td>\n",
              "      <td>University of Maryland-Baltimore County</td>\n",
              "      <td>MD</td>\n",
              "      <td>2.0</td>\n",
              "      <td>0.6021</td>\n",
              "      <td>11518.0</td>\n",
              "      <td>2017</td>\n",
              "    </tr>\n",
              "    <tr>\n",
              "      <th>1415</th>\n",
              "      <td>163268</td>\n",
              "      <td>University of Maryland-Baltimore County</td>\n",
              "      <td>MD</td>\n",
              "      <td>2.0</td>\n",
              "      <td>0.5794</td>\n",
              "      <td>11778.0</td>\n",
              "      <td>2018</td>\n",
              "    </tr>\n",
              "  </tbody>\n",
              "</table>\n",
              "</div>"
            ],
            "text/plain": [
              "      UNITID                                   INSTNM  ... TUITIONFEE_IN  year\n",
              "1610  163268  University of Maryland-Baltimore County  ...       10384.0  2014\n",
              "1555  163268  University of Maryland-Baltimore County  ...       11006.0  2015\n",
              "1510  163268  University of Maryland-Baltimore County  ...       11264.0  2016\n",
              "1478  163268  University of Maryland-Baltimore County  ...       11518.0  2017\n",
              "1415  163268  University of Maryland-Baltimore County  ...       11778.0  2018\n",
              "\n",
              "[5 rows x 7 columns]"
            ]
          },
          "metadata": {},
          "execution_count": 21
        }
      ]
    },
    {
      "cell_type": "code",
      "metadata": {
        "id": "4bn9LLYHf6LE",
        "colab": {
          "base_uri": "https://localhost:8080/",
          "height": 204
        },
        "outputId": "66889f64-d049-4d42-c64f-f8c8ecdf841a"
      },
      "source": [
        "df_umbc.sample(n=5)"
      ],
      "execution_count": 23,
      "outputs": [
        {
          "output_type": "execute_result",
          "data": {
            "text/html": [
              "<div>\n",
              "<style scoped>\n",
              "    .dataframe tbody tr th:only-of-type {\n",
              "        vertical-align: middle;\n",
              "    }\n",
              "\n",
              "    .dataframe tbody tr th {\n",
              "        vertical-align: top;\n",
              "    }\n",
              "\n",
              "    .dataframe thead th {\n",
              "        text-align: right;\n",
              "    }\n",
              "</style>\n",
              "<table border=\"1\" class=\"dataframe\">\n",
              "  <thead>\n",
              "    <tr style=\"text-align: right;\">\n",
              "      <th></th>\n",
              "      <th>UNITID</th>\n",
              "      <th>INSTNM</th>\n",
              "      <th>STABBR</th>\n",
              "      <th>REGION</th>\n",
              "      <th>ADM_RATE</th>\n",
              "      <th>TUITIONFEE_IN</th>\n",
              "      <th>year</th>\n",
              "    </tr>\n",
              "  </thead>\n",
              "  <tbody>\n",
              "    <tr>\n",
              "      <th>1555</th>\n",
              "      <td>163268</td>\n",
              "      <td>University of Maryland-Baltimore County</td>\n",
              "      <td>MD</td>\n",
              "      <td>2.0</td>\n",
              "      <td>0.5942</td>\n",
              "      <td>11006.0</td>\n",
              "      <td>2015</td>\n",
              "    </tr>\n",
              "    <tr>\n",
              "      <th>2151</th>\n",
              "      <td>163268</td>\n",
              "      <td>University of Maryland-Baltimore County</td>\n",
              "      <td>MD</td>\n",
              "      <td>2.0</td>\n",
              "      <td>NaN</td>\n",
              "      <td>NaN</td>\n",
              "      <td>1996</td>\n",
              "    </tr>\n",
              "    <tr>\n",
              "      <th>1610</th>\n",
              "      <td>163268</td>\n",
              "      <td>University of Maryland-Baltimore County</td>\n",
              "      <td>MD</td>\n",
              "      <td>2.0</td>\n",
              "      <td>0.5961</td>\n",
              "      <td>10384.0</td>\n",
              "      <td>2014</td>\n",
              "    </tr>\n",
              "    <tr>\n",
              "      <th>1660</th>\n",
              "      <td>163268</td>\n",
              "      <td>University of Maryland-Baltimore County</td>\n",
              "      <td>MD</td>\n",
              "      <td>2.0</td>\n",
              "      <td>0.6035</td>\n",
              "      <td>9764.0</td>\n",
              "      <td>2012</td>\n",
              "    </tr>\n",
              "    <tr>\n",
              "      <th>1955</th>\n",
              "      <td>163268</td>\n",
              "      <td>University of Maryland-Baltimore County</td>\n",
              "      <td>MD</td>\n",
              "      <td>2.0</td>\n",
              "      <td>NaN</td>\n",
              "      <td>NaN</td>\n",
              "      <td>1999</td>\n",
              "    </tr>\n",
              "  </tbody>\n",
              "</table>\n",
              "</div>"
            ],
            "text/plain": [
              "      UNITID                                   INSTNM  ... TUITIONFEE_IN  year\n",
              "1555  163268  University of Maryland-Baltimore County  ...       11006.0  2015\n",
              "2151  163268  University of Maryland-Baltimore County  ...           NaN  1996\n",
              "1610  163268  University of Maryland-Baltimore County  ...       10384.0  2014\n",
              "1660  163268  University of Maryland-Baltimore County  ...        9764.0  2012\n",
              "1955  163268  University of Maryland-Baltimore County  ...           NaN  1999\n",
              "\n",
              "[5 rows x 7 columns]"
            ]
          },
          "metadata": {},
          "execution_count": 23
        }
      ]
    },
    {
      "cell_type": "code",
      "metadata": {
        "id": "FoGBw12hf-6Q",
        "colab": {
          "base_uri": "https://localhost:8080/"
        },
        "outputId": "cd99458f-2148-4c56-d36f-e3e5c7b966fc"
      },
      "source": [
        "df_umbc.isnull().sum()"
      ],
      "execution_count": 24,
      "outputs": [
        {
          "output_type": "execute_result",
          "data": {
            "text/plain": [
              "UNITID           0\n",
              "INSTNM           0\n",
              "STABBR           0\n",
              "REGION           0\n",
              "ADM_RATE         5\n",
              "TUITIONFEE_IN    4\n",
              "year             0\n",
              "dtype: int64"
            ]
          },
          "metadata": {},
          "execution_count": 24
        }
      ]
    },
    {
      "cell_type": "code",
      "metadata": {
        "id": "pHvxcrwUgBoS",
        "colab": {
          "base_uri": "https://localhost:8080/",
          "height": 297
        },
        "outputId": "e9ee7769-2e7e-45dd-aea5-c126abc7524c"
      },
      "source": [
        "df_umbc.describe()"
      ],
      "execution_count": 25,
      "outputs": [
        {
          "output_type": "execute_result",
          "data": {
            "text/html": [
              "<div>\n",
              "<style scoped>\n",
              "    .dataframe tbody tr th:only-of-type {\n",
              "        vertical-align: middle;\n",
              "    }\n",
              "\n",
              "    .dataframe tbody tr th {\n",
              "        vertical-align: top;\n",
              "    }\n",
              "\n",
              "    .dataframe thead th {\n",
              "        text-align: right;\n",
              "    }\n",
              "</style>\n",
              "<table border=\"1\" class=\"dataframe\">\n",
              "  <thead>\n",
              "    <tr style=\"text-align: right;\">\n",
              "      <th></th>\n",
              "      <th>UNITID</th>\n",
              "      <th>REGION</th>\n",
              "      <th>ADM_RATE</th>\n",
              "      <th>TUITIONFEE_IN</th>\n",
              "    </tr>\n",
              "  </thead>\n",
              "  <tbody>\n",
              "    <tr>\n",
              "      <th>count</th>\n",
              "      <td>23.0</td>\n",
              "      <td>23.0</td>\n",
              "      <td>18.000000</td>\n",
              "      <td>19.000000</td>\n",
              "    </tr>\n",
              "    <tr>\n",
              "      <th>mean</th>\n",
              "      <td>163268.0</td>\n",
              "      <td>2.0</td>\n",
              "      <td>0.640694</td>\n",
              "      <td>9004.842105</td>\n",
              "    </tr>\n",
              "    <tr>\n",
              "      <th>std</th>\n",
              "      <td>0.0</td>\n",
              "      <td>0.0</td>\n",
              "      <td>0.052728</td>\n",
              "      <td>1825.795421</td>\n",
              "    </tr>\n",
              "    <tr>\n",
              "      <th>min</th>\n",
              "      <td>163268.0</td>\n",
              "      <td>2.0</td>\n",
              "      <td>0.568300</td>\n",
              "      <td>5490.000000</td>\n",
              "    </tr>\n",
              "    <tr>\n",
              "      <th>25%</th>\n",
              "      <td>163268.0</td>\n",
              "      <td>2.0</td>\n",
              "      <td>0.597600</td>\n",
              "      <td>8270.000000</td>\n",
              "    </tr>\n",
              "    <tr>\n",
              "      <th>50%</th>\n",
              "      <td>163268.0</td>\n",
              "      <td>2.0</td>\n",
              "      <td>0.632100</td>\n",
              "      <td>8872.000000</td>\n",
              "    </tr>\n",
              "    <tr>\n",
              "      <th>75%</th>\n",
              "      <td>163268.0</td>\n",
              "      <td>2.0</td>\n",
              "      <td>0.689375</td>\n",
              "      <td>10226.000000</td>\n",
              "    </tr>\n",
              "    <tr>\n",
              "      <th>max</th>\n",
              "      <td>163268.0</td>\n",
              "      <td>2.0</td>\n",
              "      <td>0.717400</td>\n",
              "      <td>11778.000000</td>\n",
              "    </tr>\n",
              "  </tbody>\n",
              "</table>\n",
              "</div>"
            ],
            "text/plain": [
              "         UNITID  REGION   ADM_RATE  TUITIONFEE_IN\n",
              "count      23.0    23.0  18.000000      19.000000\n",
              "mean   163268.0     2.0   0.640694    9004.842105\n",
              "std         0.0     0.0   0.052728    1825.795421\n",
              "min    163268.0     2.0   0.568300    5490.000000\n",
              "25%    163268.0     2.0   0.597600    8270.000000\n",
              "50%    163268.0     2.0   0.632100    8872.000000\n",
              "75%    163268.0     2.0   0.689375   10226.000000\n",
              "max    163268.0     2.0   0.717400   11778.000000"
            ]
          },
          "metadata": {},
          "execution_count": 25
        }
      ]
    },
    {
      "cell_type": "code",
      "metadata": {
        "id": "afOQjc1w6zL4",
        "colab": {
          "base_uri": "https://localhost:8080/",
          "height": 297
        },
        "outputId": "df4ddc9d-722d-4250-954d-d054518704f1"
      },
      "source": [
        "# <10> \n",
        "# Plot UMBC's in-state tution overtime from 1996 to 2019 using Line Chart\n",
        "df_umbc.plot(x=\"year\", y=[\"TUITIONFEE_IN\"], kind=\"line\")\n",
        "#(Write code here)\n"
      ],
      "execution_count": 26,
      "outputs": [
        {
          "output_type": "execute_result",
          "data": {
            "text/plain": [
              "<matplotlib.axes._subplots.AxesSubplot at 0x7f46374d9890>"
            ]
          },
          "metadata": {},
          "execution_count": 26
        },
        {
          "output_type": "display_data",
          "data": {
            "image/png": "[encoded data removed]",
            "text/plain": [
              "<Figure size 432x288 with 1 Axes>"
            ]
          },
          "metadata": {
            "needs_background": "light"
          }
        }
      ]
    },
    {
      "cell_type": "code",
      "metadata": {
        "id": "xQLB2f7J6zL-",
        "colab": {
          "base_uri": "https://localhost:8080/",
          "height": 762
        },
        "outputId": "2b4f5bb1-e59b-4522-8e82-63fb2d4e0880"
      },
      "source": [
        "# <11>\n",
        "# Now let's look at the tuition growth rate year over year\n",
        "# We need to calculate UMBC tuition change percentage each year\n",
        "# First convert the TUITIONFEE_IN column to a Python List\n",
        "tuition_list_umbc=df_umbc['TUITIONFEE_IN'].tolist()\n",
        "df_umbc\n",
        "#(Write code here)"
      ],
      "execution_count": 27,
      "outputs": [
        {
          "output_type": "execute_result",
          "data": {
            "text/html": [
              "<div>\n",
              "<style scoped>\n",
              "    .dataframe tbody tr th:only-of-type {\n",
              "        vertical-align: middle;\n",
              "    }\n",
              "\n",
              "    .dataframe tbody tr th {\n",
              "        vertical-align: top;\n",
              "    }\n",
              "\n",
              "    .dataframe thead th {\n",
              "        text-align: right;\n",
              "    }\n",
              "</style>\n",
              "<table border=\"1\" class=\"dataframe\">\n",
              "  <thead>\n",
              "    <tr style=\"text-align: right;\">\n",
              "      <th></th>\n",
              "      <th>UNITID</th>\n",
              "      <th>INSTNM</th>\n",
              "      <th>STABBR</th>\n",
              "      <th>REGION</th>\n",
              "      <th>ADM_RATE</th>\n",
              "      <th>TUITIONFEE_IN</th>\n",
              "      <th>year</th>\n",
              "    </tr>\n",
              "  </thead>\n",
              "  <tbody>\n",
              "    <tr>\n",
              "      <th>2151</th>\n",
              "      <td>163268</td>\n",
              "      <td>University of Maryland-Baltimore County</td>\n",
              "      <td>MD</td>\n",
              "      <td>2.0</td>\n",
              "      <td>NaN</td>\n",
              "      <td>NaN</td>\n",
              "      <td>1996</td>\n",
              "    </tr>\n",
              "    <tr>\n",
              "      <th>2049</th>\n",
              "      <td>163268</td>\n",
              "      <td>University of Maryland-Baltimore County</td>\n",
              "      <td>MD</td>\n",
              "      <td>2.0</td>\n",
              "      <td>NaN</td>\n",
              "      <td>NaN</td>\n",
              "      <td>1997</td>\n",
              "    </tr>\n",
              "    <tr>\n",
              "      <th>1982</th>\n",
              "      <td>163268</td>\n",
              "      <td>University of Maryland-Baltimore County</td>\n",
              "      <td>MD</td>\n",
              "      <td>2.0</td>\n",
              "      <td>NaN</td>\n",
              "      <td>NaN</td>\n",
              "      <td>1998</td>\n",
              "    </tr>\n",
              "    <tr>\n",
              "      <th>1955</th>\n",
              "      <td>163268</td>\n",
              "      <td>University of Maryland-Baltimore County</td>\n",
              "      <td>MD</td>\n",
              "      <td>2.0</td>\n",
              "      <td>NaN</td>\n",
              "      <td>NaN</td>\n",
              "      <td>1999</td>\n",
              "    </tr>\n",
              "    <tr>\n",
              "      <th>1926</th>\n",
              "      <td>163268</td>\n",
              "      <td>University of Maryland-Baltimore County</td>\n",
              "      <td>MD</td>\n",
              "      <td>2.0</td>\n",
              "      <td>NaN</td>\n",
              "      <td>5490.0</td>\n",
              "      <td>2000</td>\n",
              "    </tr>\n",
              "    <tr>\n",
              "      <th>1915</th>\n",
              "      <td>163268</td>\n",
              "      <td>University of Maryland-Baltimore County</td>\n",
              "      <td>MD</td>\n",
              "      <td>2.0</td>\n",
              "      <td>0.6551</td>\n",
              "      <td>5910.0</td>\n",
              "      <td>2001</td>\n",
              "    </tr>\n",
              "    <tr>\n",
              "      <th>1893</th>\n",
              "      <td>163268</td>\n",
              "      <td>University of Maryland-Baltimore County</td>\n",
              "      <td>MD</td>\n",
              "      <td>2.0</td>\n",
              "      <td>0.6327</td>\n",
              "      <td>6362.0</td>\n",
              "      <td>2002</td>\n",
              "    </tr>\n",
              "    <tr>\n",
              "      <th>1873</th>\n",
              "      <td>163268</td>\n",
              "      <td>University of Maryland-Baltimore County</td>\n",
              "      <td>MD</td>\n",
              "      <td>2.0</td>\n",
              "      <td>0.5757</td>\n",
              "      <td>7388.0</td>\n",
              "      <td>2003</td>\n",
              "    </tr>\n",
              "    <tr>\n",
              "      <th>1830</th>\n",
              "      <td>163268</td>\n",
              "      <td>University of Maryland-Baltimore County</td>\n",
              "      <td>MD</td>\n",
              "      <td>2.0</td>\n",
              "      <td>0.7014</td>\n",
              "      <td>8020.0</td>\n",
              "      <td>2004</td>\n",
              "    </tr>\n",
              "    <tr>\n",
              "      <th>1819</th>\n",
              "      <td>163268</td>\n",
              "      <td>University of Maryland-Baltimore County</td>\n",
              "      <td>MD</td>\n",
              "      <td>2.0</td>\n",
              "      <td>0.7143</td>\n",
              "      <td>8520.0</td>\n",
              "      <td>2005</td>\n",
              "    </tr>\n",
              "    <tr>\n",
              "      <th>1799</th>\n",
              "      <td>163268</td>\n",
              "      <td>University of Maryland-Baltimore County</td>\n",
              "      <td>MD</td>\n",
              "      <td>2.0</td>\n",
              "      <td>0.7153</td>\n",
              "      <td>8622.0</td>\n",
              "      <td>2006</td>\n",
              "    </tr>\n",
              "    <tr>\n",
              "      <th>1779</th>\n",
              "      <td>163268</td>\n",
              "      <td>University of Maryland-Baltimore County</td>\n",
              "      <td>MD</td>\n",
              "      <td>2.0</td>\n",
              "      <td>0.6895</td>\n",
              "      <td>8708.0</td>\n",
              "      <td>2007</td>\n",
              "    </tr>\n",
              "    <tr>\n",
              "      <th>1767</th>\n",
              "      <td>163268</td>\n",
              "      <td>University of Maryland-Baltimore County</td>\n",
              "      <td>MD</td>\n",
              "      <td>2.0</td>\n",
              "      <td>0.7174</td>\n",
              "      <td>8780.0</td>\n",
              "      <td>2008</td>\n",
              "    </tr>\n",
              "    <tr>\n",
              "      <th>1745</th>\n",
              "      <td>163268</td>\n",
              "      <td>University of Maryland-Baltimore County</td>\n",
              "      <td>MD</td>\n",
              "      <td>2.0</td>\n",
              "      <td>0.6890</td>\n",
              "      <td>8872.0</td>\n",
              "      <td>2009</td>\n",
              "    </tr>\n",
              "    <tr>\n",
              "      <th>1710</th>\n",
              "      <td>163268</td>\n",
              "      <td>University of Maryland-Baltimore County</td>\n",
              "      <td>MD</td>\n",
              "      <td>2.0</td>\n",
              "      <td>0.6589</td>\n",
              "      <td>9171.0</td>\n",
              "      <td>2010</td>\n",
              "    </tr>\n",
              "    <tr>\n",
              "      <th>1694</th>\n",
              "      <td>163268</td>\n",
              "      <td>University of Maryland-Baltimore County</td>\n",
              "      <td>MD</td>\n",
              "      <td>2.0</td>\n",
              "      <td>0.6081</td>\n",
              "      <td>9467.0</td>\n",
              "      <td>2011</td>\n",
              "    </tr>\n",
              "    <tr>\n",
              "      <th>1660</th>\n",
              "      <td>163268</td>\n",
              "      <td>University of Maryland-Baltimore County</td>\n",
              "      <td>MD</td>\n",
              "      <td>2.0</td>\n",
              "      <td>0.6035</td>\n",
              "      <td>9764.0</td>\n",
              "      <td>2012</td>\n",
              "    </tr>\n",
              "    <tr>\n",
              "      <th>1629</th>\n",
              "      <td>163268</td>\n",
              "      <td>University of Maryland-Baltimore County</td>\n",
              "      <td>MD</td>\n",
              "      <td>2.0</td>\n",
              "      <td>0.6315</td>\n",
              "      <td>10068.0</td>\n",
              "      <td>2013</td>\n",
              "    </tr>\n",
              "    <tr>\n",
              "      <th>1610</th>\n",
              "      <td>163268</td>\n",
              "      <td>University of Maryland-Baltimore County</td>\n",
              "      <td>MD</td>\n",
              "      <td>2.0</td>\n",
              "      <td>0.5961</td>\n",
              "      <td>10384.0</td>\n",
              "      <td>2014</td>\n",
              "    </tr>\n",
              "    <tr>\n",
              "      <th>1555</th>\n",
              "      <td>163268</td>\n",
              "      <td>University of Maryland-Baltimore County</td>\n",
              "      <td>MD</td>\n",
              "      <td>2.0</td>\n",
              "      <td>0.5942</td>\n",
              "      <td>11006.0</td>\n",
              "      <td>2015</td>\n",
              "    </tr>\n",
              "    <tr>\n",
              "      <th>1510</th>\n",
              "      <td>163268</td>\n",
              "      <td>University of Maryland-Baltimore County</td>\n",
              "      <td>MD</td>\n",
              "      <td>2.0</td>\n",
              "      <td>0.5683</td>\n",
              "      <td>11264.0</td>\n",
              "      <td>2016</td>\n",
              "    </tr>\n",
              "    <tr>\n",
              "      <th>1478</th>\n",
              "      <td>163268</td>\n",
              "      <td>University of Maryland-Baltimore County</td>\n",
              "      <td>MD</td>\n",
              "      <td>2.0</td>\n",
              "      <td>0.6021</td>\n",
              "      <td>11518.0</td>\n",
              "      <td>2017</td>\n",
              "    </tr>\n",
              "    <tr>\n",
              "      <th>1415</th>\n",
              "      <td>163268</td>\n",
              "      <td>University of Maryland-Baltimore County</td>\n",
              "      <td>MD</td>\n",
              "      <td>2.0</td>\n",
              "      <td>0.5794</td>\n",
              "      <td>11778.0</td>\n",
              "      <td>2018</td>\n",
              "    </tr>\n",
              "  </tbody>\n",
              "</table>\n",
              "</div>"
            ],
            "text/plain": [
              "      UNITID                                   INSTNM  ... TUITIONFEE_IN  year\n",
              "2151  163268  University of Maryland-Baltimore County  ...           NaN  1996\n",
              "2049  163268  University of Maryland-Baltimore County  ...           NaN  1997\n",
              "1982  163268  University of Maryland-Baltimore County  ...           NaN  1998\n",
              "1955  163268  University of Maryland-Baltimore County  ...           NaN  1999\n",
              "1926  163268  University of Maryland-Baltimore County  ...        5490.0  2000\n",
              "1915  163268  University of Maryland-Baltimore County  ...        5910.0  2001\n",
              "1893  163268  University of Maryland-Baltimore County  ...        6362.0  2002\n",
              "1873  163268  University of Maryland-Baltimore County  ...        7388.0  2003\n",
              "1830  163268  University of Maryland-Baltimore County  ...        8020.0  2004\n",
              "1819  163268  University of Maryland-Baltimore County  ...        8520.0  2005\n",
              "1799  163268  University of Maryland-Baltimore County  ...        8622.0  2006\n",
              "1779  163268  University of Maryland-Baltimore County  ...        8708.0  2007\n",
              "1767  163268  University of Maryland-Baltimore County  ...        8780.0  2008\n",
              "1745  163268  University of Maryland-Baltimore County  ...        8872.0  2009\n",
              "1710  163268  University of Maryland-Baltimore County  ...        9171.0  2010\n",
              "1694  163268  University of Maryland-Baltimore County  ...        9467.0  2011\n",
              "1660  163268  University of Maryland-Baltimore County  ...        9764.0  2012\n",
              "1629  163268  University of Maryland-Baltimore County  ...       10068.0  2013\n",
              "1610  163268  University of Maryland-Baltimore County  ...       10384.0  2014\n",
              "1555  163268  University of Maryland-Baltimore County  ...       11006.0  2015\n",
              "1510  163268  University of Maryland-Baltimore County  ...       11264.0  2016\n",
              "1478  163268  University of Maryland-Baltimore County  ...       11518.0  2017\n",
              "1415  163268  University of Maryland-Baltimore County  ...       11778.0  2018\n",
              "\n",
              "[23 rows x 7 columns]"
            ]
          },
          "metadata": {},
          "execution_count": 27
        }
      ]
    },
    {
      "cell_type": "code",
      "metadata": {
        "id": "LRUyQCtJ6zMB",
        "colab": {
          "base_uri": "https://localhost:8080/"
        },
        "outputId": "077172ed-605c-4792-e9fb-b23a31997c23"
      },
      "source": [
        "# Loop through the list and calculate the % change each year over the prior year\n",
        "# This takes some effort. Not hard, just some abstract/logical thinking and some experiments\n",
        "# Have fun on this one\n",
        "tuition_list_umbc=df_umbc['TUITIONFEE_IN'].tolist()\n",
        "for i in range(1,len(tuition_list_umbc)):\n",
        "  percent_chnage=((tuition_list_umbc[i]-tuition_list_umbc[i-1])/tuition_list_umbc[i-1])*100\n",
        "  print(percent_chnage)"
      ],
      "execution_count": 28,
      "outputs": [
        {
          "output_type": "stream",
          "name": "stdout",
          "text": [
            "nan\n",
            "nan\n",
            "nan\n",
            "nan\n",
            "7.650273224043716\n",
            "7.648054145516074\n",
            "16.12700408676517\n",
            "8.554412560909583\n",
            "6.234413965087282\n",
            "1.1971830985915493\n",
            "0.9974483878450475\n",
            "0.8268259072117593\n",
            "1.0478359908883828\n",
            "3.370153291253381\n",
            "3.227565151019518\n",
            "3.1372134783986483\n",
            "3.11347808275297\n",
            "3.1386571315057608\n",
            "5.989984591679507\n",
            "2.344175904052335\n",
            "2.254971590909091\n",
            "2.2573363431151243\n"
          ]
        }
      ]
    },
    {
      "cell_type": "code",
      "metadata": {
        "id": "9sxMk1hc6zML",
        "colab": {
          "base_uri": "https://localhost:8080/"
        },
        "outputId": "c696e3b6-dc43-4ea8-a07a-3908aa367a5b"
      },
      "source": [
        "# The resulting number has many decimal points which are unnecessary and not visually appealing.\n",
        "# Round up the percentage to two decimal points\n",
        "# You can use for loop. Or better, use list comprehension for simplicity/brevity\n",
        "pct_tuition_chnages_list=[]\n",
        "for i in range(0,len(tuition_list_umbc)):\n",
        "  percent_chnage=((tuition_list_umbc[i]-tuition_list_umbc[i-1])/tuition_list_umbc[i-1])*100\n",
        "  pct_tuition_chnages_list.append(round(percent_chnage,2))\n",
        "  print(round(percent_chnage,2))"
      ],
      "execution_count": 29,
      "outputs": [
        {
          "output_type": "stream",
          "name": "stdout",
          "text": [
            "nan\n",
            "nan\n",
            "nan\n",
            "nan\n",
            "nan\n",
            "7.65\n",
            "7.65\n",
            "16.13\n",
            "8.55\n",
            "6.23\n",
            "1.2\n",
            "1.0\n",
            "0.83\n",
            "1.05\n",
            "3.37\n",
            "3.23\n",
            "3.14\n",
            "3.11\n",
            "3.14\n",
            "5.99\n",
            "2.34\n",
            "2.25\n",
            "2.26\n"
          ]
        }
      ]
    },
    {
      "cell_type": "code",
      "metadata": {
        "id": "_04rVaZ16zMR"
      },
      "source": [
        "# Add the list of the percentages to the dataframe as a new column (\"PCT_CHANGE\")\n",
        "# Not as hard as you may think. If you get stuck, you think too hard. \n",
        "# Google it and you will find the answer.\n",
        "df_umbc['PCT_CHANGE']=pct_tuition_chnages_list\n",
        "#(Write code here)"
      ],
      "execution_count": 30,
      "outputs": []
    },
    {
      "cell_type": "code",
      "metadata": {
        "id": "5Evbjx-g6zMX",
        "colab": {
          "base_uri": "https://localhost:8080/",
          "height": 312
        },
        "outputId": "c1454e7c-1c67-46f0-abd8-64636b5da56c"
      },
      "source": [
        "# Finaly, we can make the plot tuition growth rate year over year - bar first, then line chart\n",
        "df_umbc.plot(x=\"year\", y=[\"PCT_CHANGE\"], kind=\"bar\")\n",
        "\n",
        "# (write code here)\n",
        "\n"
      ],
      "execution_count": 31,
      "outputs": [
        {
          "output_type": "execute_result",
          "data": {
            "text/plain": [
              "<matplotlib.axes._subplots.AxesSubplot at 0x7f463741b690>"
            ]
          },
          "metadata": {},
          "execution_count": 31
        },
        {
          "output_type": "display_data",
          "data": {
            "image/png": "[encoded data removed]",
            "text/plain": [
              "<Figure size 432x288 with 1 Axes>"
            ]
          },
          "metadata": {
            "needs_background": "light"
          }
        }
      ]
    },
    {
      "cell_type": "code",
      "metadata": {
        "id": "eCqEe_646zMc"
      },
      "source": [
        " # <12>\n",
        "# Since we want to do the same calculation for JHU. \n",
        "# Instead of doing it piecemeal as we did for UMBC\n",
        "# Let's create a function which can be reused for any college.\n",
        "# This function takes a list of tuitions and return a list of percentage changes year over year\n",
        "# This function can be used later \n",
        "def pct_tuition_chnages():\n",
        "  pct_tuition_chnages_list_JHU=[]\n",
        "  for i in range(0,len(tuition_list_JHU)):\n",
        "    percent_chnage=((tuition_list_JHU[i]-tuition_list_JHU[i-1])/tuition_list_JHU[i-1])*100\n",
        "    pct_tuition_chnages_list_JHU.append(round(percent_chnage,2))\n",
        "  return pct_tuition_chnages_list_JHU\n"
      ],
      "execution_count": 32,
      "outputs": []
    },
    {
      "cell_type": "code",
      "metadata": {
        "id": "f2mhYOjV6zMj"
      },
      "source": [
        "# <13>\n",
        "# the dataframe contains many years of data of all U.S. colleges.\n",
        "# let's just look at JHU\n",
        "# filter/query the dataframe to retrieve only rows that belong to JHU\n",
        "# save the JHU data to a new data frame. using a new variable \n",
        "# so that the old big data frame is still available for later use.\n",
        "df_JHU = df1.query('INSTNM==\"Johns Hopkins University\"')\n",
        "df_JHU=df_JHU.sort_values(by='year')\n",
        "tuition_list_JHU=df_JHU['TUITIONFEE_IN'].tolist()\n",
        "  "
      ],
      "execution_count": 33,
      "outputs": []
    },
    {
      "cell_type": "code",
      "metadata": {
        "id": "wGXcNTJ46zMo",
        "colab": {
          "base_uri": "https://localhost:8080/",
          "height": 299
        },
        "outputId": "f95d8a82-d1bd-43a0-a01f-f609af2b8c99"
      },
      "source": [
        "# <14> \n",
        "# Plot JHU's in-state tuition overtime from 1996 to 2019. \n",
        "# Let's plot bar and line chart together\n",
        "df_JHU.plot(x=\"year\", y=[\"TUITIONFEE_IN\"], kind=\"line\")\n",
        "\n"
      ],
      "execution_count": 34,
      "outputs": [
        {
          "output_type": "execute_result",
          "data": {
            "text/plain": [
              "<matplotlib.axes._subplots.AxesSubplot at 0x7f463738d810>"
            ]
          },
          "metadata": {},
          "execution_count": 34
        },
        {
          "output_type": "display_data",
          "data": {
            "image/png": "[encoded data removed]",
            "text/plain": [
              "<Figure size 432x288 with 1 Axes>"
            ]
          },
          "metadata": {
            "needs_background": "light"
          }
        }
      ]
    },
    {
      "cell_type": "code",
      "metadata": {
        "id": "BlhTF3wIyqXG",
        "colab": {
          "base_uri": "https://localhost:8080/",
          "height": 312
        },
        "outputId": "91ca91a4-0ef3-456a-e9f8-80e703277530"
      },
      "source": [
        "df_JHU.plot(x=\"year\", y=[\"TUITIONFEE_IN\"], kind=\"bar\")\n"
      ],
      "execution_count": 35,
      "outputs": [
        {
          "output_type": "execute_result",
          "data": {
            "text/plain": [
              "<matplotlib.axes._subplots.AxesSubplot at 0x7f463736cd90>"
            ]
          },
          "metadata": {},
          "execution_count": 35
        },
        {
          "output_type": "display_data",
          "data": {
            "image/png": "[encoded data removed]",
            "text/plain": [
              "<Figure size 432x288 with 1 Axes>"
            ]
          },
          "metadata": {
            "needs_background": "light"
          }
        }
      ]
    },
    {
      "cell_type": "code",
      "metadata": {
        "id": "RPXTrsZT6zMx"
      },
      "source": [
        "# <15>\n",
        "# Let's calculate the JHU tuition percentge growth using the function defined earlier\n",
        "PCT_CHANGES_JHU = pct_tuition_chnages()\n"
      ],
      "execution_count": 42,
      "outputs": []
    },
    {
      "cell_type": "code",
      "metadata": {
        "id": "7KM74FQH6zM4"
      },
      "source": [
        "# <16>\n",
        "# Add the list of percentage changes to the dataframe as a new column (\"PCT_CHANGE\")\n",
        "\n",
        "#(Write code here)\n",
        "df_JHU['PCT_CHANGE'] = PCT_CHANGES_JHU\n"
      ],
      "execution_count": 53,
      "outputs": []
    },
    {
      "cell_type": "code",
      "metadata": {
        "id": "vGi8YI_A6zM7",
        "colab": {
          "base_uri": "https://localhost:8080/",
          "height": 312
        },
        "outputId": "c4ae6e72-cba2-47ef-d1a7-ca6d3224575e"
      },
      "source": [
        "# <17> Make a bar plot of the JHU percentage changes tuitions over time\n",
        "\n",
        "#(Write code here)\n",
        "df_JHU.plot(x=\"year\", y=[\"PCT_CHANGE\"], kind=\"bar\")\n",
        "\n"
      ],
      "execution_count": 54,
      "outputs": [
        {
          "output_type": "execute_result",
          "data": {
            "text/plain": [
              "<matplotlib.axes._subplots.AxesSubplot at 0x7f4636f4d590>"
            ]
          },
          "metadata": {},
          "execution_count": 54
        },
        {
          "output_type": "display_data",
          "data": {
            "image/png": "[encoded data removed]",
            "text/plain": [
              "<Figure size 432x288 with 1 Axes>"
            ]
          },
          "metadata": {
            "needs_background": "light"
          }
        }
      ]
    },
    {
      "cell_type": "code",
      "metadata": {
        "id": "bGYYULq16zNA"
      },
      "source": [
        "# <18>\n",
        "# In order to plot both UMBC and JHU tuition change over time in the same plot,\n",
        "# we need to combine the two datasets using the common key of YEAR \n",
        "# First make a umbc2 dataframe with only two columns needed. WE don't need other columns.\n",
        "# Also change the column name from \"PCT_CHANGE\" to \"UMBC_PCT\" in preparation for the merge.\n",
        "# This is because both umbc and jhu dataframe have the same column name \"PCT_CHANGE\",\n",
        "# We rename them to there is no collision during the merge. BTW, Pandas handles collision gracefully,\n",
        "# Feel free to try it without changing the column names.\n",
        "# Then make a jhu2 dataframe with only two columns needed. WE don't need other columns.\n",
        "# Also change the column name from \"PCT_CHANGE\" to \"JHU_PCT\"  in preparation for the merge\n",
        "\n",
        "\n",
        "#(Write code here)\n",
        "\n",
        "df_umbc2=df_umbc[['year','PCT_CHANGE']]\n",
        "df_umbc2= df_umbc2.rename(columns={'PCT_CHANGE': 'UMBC_PCT'})\n",
        "df_JHU1=df_JHU[['year','PCT_CHANGE']]\n",
        "df_JHU1 = df_JHU1.rename(columns={'PCT_CHANGE': 'JHU_PCT'})"
      ],
      "execution_count": 66,
      "outputs": []
    },
    {
      "cell_type": "code",
      "metadata": {
        "id": "LJ_6wKKU6zNL"
      },
      "source": [
        "# Now, merger the two data frames\n",
        "# and display the new dataframe\n",
        "\n",
        "#(Write code here)\n",
        "\n",
        "merge = [df_umbc2, df_JHU1]\n",
        "final = pd.concat(merge)\n",
        "df_merge=final\n"
      ],
      "execution_count": 68,
      "outputs": []
    },
    {
      "cell_type": "code",
      "metadata": {
        "id": "Ng3bbP076zNW",
        "colab": {
          "base_uri": "https://localhost:8080/",
          "height": 698
        },
        "outputId": "5ca92727-7fdd-48d6-e73b-f4928107c3dd"
      },
      "source": [
        "# Plot UMBC and JHU separately on the same plot \n",
        "# However, this does not work since the bars overlap.\n",
        "\n",
        "#(Write code here)\n",
        "df_merge.plot.bar(x = 'year', y = ['UMBC_PCT'], figsize = (10, 5))\n",
        "df_merge.plot.bar(x = 'year', y = ['JHU_PCT'], figsize = (10, 5))\n",
        "\n"
      ],
      "execution_count": 73,
      "outputs": [
        {
          "output_type": "execute_result",
          "data": {
            "text/plain": [
              "<matplotlib.axes._subplots.AxesSubplot at 0x7f463676cd50>"
            ]
          },
          "metadata": {},
          "execution_count": 73
        },
        {
          "output_type": "display_data",
          "data": {
            "image/png": "[encoded data removed]",
            "text/plain": [
              "<Figure size 720x360 with 1 Axes>"
            ]
          },
          "metadata": {
            "needs_background": "light"
          }
        },
        {
          "output_type": "display_data",
          "data": {
            "image/png": "[encoded data removed]",
            "text/plain": [
              "<Figure size 720x360 with 1 Axes>"
            ]
          },
          "metadata": {
            "needs_background": "light"
          }
        }
      ]
    },
    {
      "cell_type": "code",
      "metadata": {
        "id": "gqeDG8Xf6zNg",
        "colab": {
          "base_uri": "https://localhost:8080/",
          "height": 366
        },
        "outputId": "c2de652a-e307-40fa-a562-1e51cd725e7b"
      },
      "source": [
        "# Plot them together using y=[\"UMBC_PCT\",\"JHU_PCT\"] option of bar plot\n",
        "\n",
        "#(Write code here)\n",
        "\n",
        "df_merge.plot.bar(x = 'year', y = ['UMBC_PCT', 'JHU_PCT'], figsize = (10, 5))"
      ],
      "execution_count": 71,
      "outputs": [
        {
          "output_type": "execute_result",
          "data": {
            "text/plain": [
              "<matplotlib.axes._subplots.AxesSubplot at 0x7f4636e2ee10>"
            ]
          },
          "metadata": {},
          "execution_count": 71
        },
        {
          "output_type": "display_data",
          "data": {
            "image/png": "[encoded data removed]",
            "text/plain": [
              "<Figure size 720x360 with 1 Axes>"
            ]
          },
          "metadata": {
            "needs_background": "light"
          }
        }
      ]
    },
    {
      "cell_type": "code",
      "metadata": {
        "colab": {
          "base_uri": "https://localhost:8080/",
          "height": 351
        },
        "id": "PVzZg2_KmT3Y",
        "outputId": "ac6696fe-07ca-4f47-8984-d01d0d5fc08c"
      },
      "source": [
        "df_merge.plot.line(x = 'year', y = ['UMBC_PCT', 'JHU_PCT'], figsize = (10, 5))"
      ],
      "execution_count": 74,
      "outputs": [
        {
          "output_type": "execute_result",
          "data": {
            "text/plain": [
              "<matplotlib.axes._subplots.AxesSubplot at 0x7f4636e71ed0>"
            ]
          },
          "metadata": {},
          "execution_count": 74
        },
        {
          "output_type": "display_data",
          "data": {
            "image/png": "[encoded data removed]",
            "text/plain": [
              "<Figure size 720x360 with 1 Axes>"
            ]
          },
          "metadata": {
            "needs_background": "light"
          }
        }
      ]
    },
    {
      "cell_type": "code",
      "metadata": {
        "id": "6YNmMkgW6zNv"
      },
      "source": [
        "# <19> \n",
        "# document your observation/conclusion of the comparison plots (bar/line)\n",
        "# use the following Markdown cell"
      ],
      "execution_count": null,
      "outputs": []
    },
    {
      "cell_type": "markdown",
      "metadata": {
        "id": "b1iTDrKrnjQP"
      },
      "source": [
        "### From this above exercise we can see the growth and percentage growth of in-state tution fee from both university of balitmore county and John Hopkins university by using both bar and line graphs. "
      ]
    }
  ]
}