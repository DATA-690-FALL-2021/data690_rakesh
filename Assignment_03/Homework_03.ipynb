{
  "nbformat": 4,
  "nbformat_minor": 0,
  "metadata": {
    "colab": {
      "name": "Homework_03.ipynb",
      "provenance": [],
      "collapsed_sections": [],
      "authorship_tag": "ABX9TyPXflS+l2bjyFXKHHlTXCI4",
      "include_colab_link": true
    },
    "kernelspec": {
      "name": "python3",
      "display_name": "Python 3"
    },
    "language_info": {
      "name": "python"
    }
  },
  "cells": [
    {
      "cell_type": "markdown",
      "metadata": {
        "id": "view-in-github",
        "colab_type": "text"
      },
      "source": [
        "<a href=\"https://colab.research.google.com/github/rakeshp1/data690_rakesh/blob/main/Assignment_03/Homework_03.ipynb\" target=\"_parent\"><img src=\"https://colab.research.google.com/assets/colab-badge.svg\" alt=\"Open In Colab\"/></a>"
      ]
    },
    {
      "cell_type": "markdown",
      "metadata": {
        "id": "zaOO-u2E9Kmp"
      },
      "source": [
        "# Assignment_03 Homework\n",
        "- Rakesh Reddy\n",
        "- Data 690 Fall"
      ]
    },
    {
      "cell_type": "markdown",
      "metadata": {
        "id": "ptu8_ZYGUgFi"
      },
      "source": [
        "# 1. Print them in a 10 by 10 matrix neatly arranged (one space between each number):\n"
      ]
    },
    {
      "cell_type": "code",
      "metadata": {
        "colab": {
          "base_uri": "https://localhost:8080/"
        },
        "id": "eB4osIW-Nc_N",
        "outputId": "485f86b0-52e4-4bf7-cf94-6664fdd0b96c"
      },
      "source": [
        "import random\n",
        "for i in range(0,10):\n",
        "  for j in range(0,10):\n",
        "    print(random.randint(0,9), end =\" \")\n",
        "  print(\" \")"
      ],
      "execution_count": 69,
      "outputs": [
        {
          "output_type": "stream",
          "name": "stdout",
          "text": [
            "7 6 9 9 9 2 0 3 6 3  \n",
            "6 3 5 4 0 1 4 4 2 2  \n",
            "3 7 9 1 3 3 6 2 0 5  \n",
            "7 3 7 7 4 2 6 2 8 3  \n",
            "4 0 1 4 2 4 1 0 9 3  \n",
            "7 7 8 8 9 7 2 6 4 6  \n",
            "9 1 5 6 5 3 5 9 4 8  \n",
            "4 7 3 3 4 0 1 7 2 4  \n",
            "3 3 0 4 5 5 1 1 4 4  \n",
            "8 4 3 9 1 4 2 9 1 0  \n"
          ]
        }
      ]
    },
    {
      "cell_type": "markdown",
      "metadata": {
        "id": "5kNoT6rOZC5I"
      },
      "source": [
        "# 2. If the random number is an odd number, print \"@\" instead."
      ]
    },
    {
      "cell_type": "code",
      "metadata": {
        "colab": {
          "base_uri": "https://localhost:8080/"
        },
        "id": "tFQjyhPeNqrL",
        "outputId": "0c45090f-6cc1-4c9a-d2e8-ab8aada54fb7"
      },
      "source": [
        "import random\n",
        "for i in range(0,10):\n",
        "  for j in range(0,10):\n",
        "    a=random.randint(0,9)\n",
        "    if a%2==1:\n",
        "      print(\"@\", end = \" \")\n",
        "    else:\n",
        "      print(a, end = \" \")\n",
        "    #print(random.randint(0,9), end =\" \")\n",
        "  print(\" \")"
      ],
      "execution_count": 70,
      "outputs": [
        {
          "output_type": "stream",
          "name": "stdout",
          "text": [
            "0 2 2 @ @ 0 0 6 @ @  \n",
            "@ @ @ 0 8 @ @ 8 @ 8  \n",
            "@ 2 0 @ @ 8 @ 4 2 @  \n",
            "4 4 0 6 8 @ 0 4 @ 8  \n",
            "@ 8 @ 4 @ @ 2 8 @ @  \n",
            "0 @ 2 @ 4 6 6 @ 2 2  \n",
            "@ 0 8 @ 2 0 @ @ @ 2  \n",
            "@ 2 0 2 @ 8 @ 4 2 @  \n",
            "@ 6 6 @ @ 8 8 4 @ @  \n",
            "@ 4 0 @ @ 2 6 @ 0 0  \n"
          ]
        }
      ]
    },
    {
      "cell_type": "markdown",
      "metadata": {
        "id": "VJJqBQevZXfe"
      },
      "source": [
        "# 3. Calculate and Print the total of each row at the end after an \" * \" is placed."
      ]
    },
    {
      "cell_type": "code",
      "metadata": {
        "colab": {
          "base_uri": "https://localhost:8080/"
        },
        "id": "HAx9b_Lk3WMT",
        "outputId": "0e93a39b-9d5c-4fc2-bf7a-06a9148b1c07"
      },
      "source": [
        "import random\n",
        "sum = 0\n",
        "for i in range(0,10):\n",
        "  for j in range(0,10):\n",
        "    a = random.randint(0,9)\n",
        "    print(a, end =\" \")\n",
        "    sum = sum + a\n",
        "    #sum = sum + random.randint(0,9)\n",
        "  print(\"*\",sum)\n",
        "  sum =0\n",
        "  print(\" \")"
      ],
      "execution_count": 71,
      "outputs": [
        {
          "output_type": "stream",
          "name": "stdout",
          "text": [
            "7 6 7 6 5 3 5 1 1 3 * 44\n",
            " \n",
            "5 2 3 1 8 6 8 7 8 5 * 53\n",
            " \n",
            "1 7 6 5 1 8 4 4 7 6 * 49\n",
            " \n",
            "7 1 5 1 1 3 2 1 4 4 * 29\n",
            " \n",
            "0 4 0 1 2 0 4 3 3 4 * 21\n",
            " \n",
            "7 3 8 7 7 0 7 4 9 4 * 56\n",
            " \n",
            "4 9 0 7 7 8 9 1 8 8 * 61\n",
            " \n",
            "4 9 2 3 7 0 8 7 1 7 * 48\n",
            " \n",
            "5 4 6 5 9 6 6 7 0 7 * 55\n",
            " \n",
            "9 0 8 1 2 0 6 9 5 9 * 49\n",
            " \n"
          ]
        }
      ]
    },
    {
      "cell_type": "markdown",
      "metadata": {
        "id": "S0_-9dUObazD"
      },
      "source": [
        "# 4. Optional: Surround the matrix with asterisks (*)"
      ]
    },
    {
      "cell_type": "code",
      "metadata": {
        "id": "Lec2ZHw-aaPV",
        "colab": {
          "base_uri": "https://localhost:8080/"
        },
        "outputId": "743e3fc9-954e-4986-ab77-2d757bf162ab"
      },
      "source": [
        "import random\n",
        "sum = 0\n",
        "print(28*\"*\")\n",
        "\n",
        "for i in range(0,10): \n",
        "  print(\"*\", end=\" \")\n",
        "  for j in range(0,10):\n",
        "    a = random.randint(0,9)\n",
        "    print(a, end =\" \")\n",
        "    sum = sum + a  \n",
        "  print(\"*\",sum,\"*\")\n",
        "  sum =0  \n",
        "print(28*\"*\")"
      ],
      "execution_count": 72,
      "outputs": [
        {
          "output_type": "stream",
          "name": "stdout",
          "text": [
            "****************************\n",
            "* 6 5 6 3 6 0 6 4 8 7 * 51 *\n",
            "* 3 1 3 9 4 2 6 6 3 5 * 42 *\n",
            "* 7 7 1 8 1 6 8 8 6 6 * 58 *\n",
            "* 3 4 6 8 8 5 5 5 3 7 * 54 *\n",
            "* 4 9 1 6 3 6 5 1 9 1 * 45 *\n",
            "* 9 7 8 5 5 5 2 2 1 6 * 50 *\n",
            "* 7 3 2 7 3 3 0 7 8 7 * 47 *\n",
            "* 5 2 9 8 2 9 8 9 0 3 * 55 *\n",
            "* 2 4 5 6 8 1 1 7 0 6 * 40 *\n",
            "* 0 6 0 3 0 0 1 2 3 9 * 24 *\n",
            "****************************\n"
          ]
        }
      ]
    },
    {
      "cell_type": "code",
      "metadata": {
        "id": "lVTwA-Up5viu"
      },
      "source": [
        ""
      ],
      "execution_count": null,
      "outputs": []
    }
  ]
}