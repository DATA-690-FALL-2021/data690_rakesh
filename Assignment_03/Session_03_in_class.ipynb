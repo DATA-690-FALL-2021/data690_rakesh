{
  "nbformat": 4,
  "nbformat_minor": 0,
  "metadata": {
    "colab": {
      "name": "Session_03 in class.ipynb",
      "provenance": [],
      "authorship_tag": "ABX9TyPgqJAdfOWpOqLKgjJYd0J/",
      "include_colab_link": true
    },
    "kernelspec": {
      "name": "python3",
      "display_name": "Python 3"
    },
    "language_info": {
      "name": "python"
    }
  },
  "cells": [
    {
      "cell_type": "markdown",
      "metadata": {
        "id": "view-in-github",
        "colab_type": "text"
      },
      "source": [
        "<a href=\"https://colab.research.google.com/github/rakeshp1/data690_rakesh/blob/main/Assignment_03/Session_03_in_class.ipynb\" target=\"_parent\"><img src=\"https://colab.research.google.com/assets/colab-badge.svg\" alt=\"Open In Colab\"/></a>"
      ]
    },
    {
      "cell_type": "markdown",
      "metadata": {
        "id": "RPVVzajZ8V2A"
      },
      "source": [
        "# Session 3 In Class Practice\n",
        "-  Rakesh\n",
        "-  September 16\n"
      ]
    },
    {
      "cell_type": "markdown",
      "metadata": {
        "id": "r8ekUtYA824F"
      },
      "source": [
        "## 1. List Comprehension\n"
      ]
    },
    {
      "cell_type": "code",
      "metadata": {
        "colab": {
          "base_uri": "https://localhost:8080/"
        },
        "id": "8IfecXE18SLX",
        "outputId": "43a1107c-ed42-4f58-b26a-0074027d11b7"
      },
      "source": [
        "  # Traditional way using for loop\n",
        "  \n",
        "  x = [2, 5, -7, 10, 12]  \n",
        "\n",
        " \n",
        "  y= []\n",
        "\n",
        "for i in x:\n",
        "    new_number = i + 10\n",
        "    print(new_number)\n",
        "    y.append(new_number)\n",
        "\n",
        "  print(y)"
      ],
      "execution_count": 18,
      "outputs": [
        {
          "output_type": "stream",
          "name": "stdout",
          "text": [
            "12\n",
            "15\n",
            "3\n",
            "20\n",
            "22\n",
            "[12, 15, 3, 20, 22]\n"
          ]
        }
      ]
    },
    {
      "cell_type": "code",
      "metadata": {
        "colab": {
          "base_uri": "https://localhost:8080/"
        },
        "id": "MdChfcwt-5zD",
        "outputId": "c1faac44-c0d2-4b6c-9769-74725d36718a"
      },
      "source": [
        "# new way using List Comprehension\n",
        "\n",
        "y = [i+10 for i in x]\n",
        "\n",
        "print(y)"
      ],
      "execution_count": 14,
      "outputs": [
        {
          "output_type": "stream",
          "name": "stdout",
          "text": [
            "[12, 15, 3, 20, 22]\n"
          ]
        }
      ]
    },
    {
      "cell_type": "markdown",
      "metadata": {
        "id": "eCXkKP-M_R9K"
      },
      "source": [
        "#2. User-defined Function"
      ]
    },
    {
      "cell_type": "code",
      "metadata": {
        "colab": {
          "base_uri": "https://localhost:8080/"
        },
        "id": "0s3tineS_XBn",
        "outputId": "51208962-9d9b-40a4-c547-b7f521081776"
      },
      "source": [
        "def addition(a,b):\n",
        "    return a+b\n",
        "\n",
        "y = addition(5,10)\n",
        "print(y)\n",
        "     "
      ],
      "execution_count": 15,
      "outputs": [
        {
          "output_type": "stream",
          "name": "stdout",
          "text": [
            "15\n"
          ]
        }
      ]
    },
    {
      "cell_type": "markdown",
      "metadata": {
        "id": "x7N0HlRH_4UB"
      },
      "source": [
        "# 3. Division"
      ]
    },
    {
      "cell_type": "code",
      "metadata": {
        "id": "FiykqGWZ_8ID"
      },
      "source": [
        "def di"
      ],
      "execution_count": null,
      "outputs": []
    }
  ]
}