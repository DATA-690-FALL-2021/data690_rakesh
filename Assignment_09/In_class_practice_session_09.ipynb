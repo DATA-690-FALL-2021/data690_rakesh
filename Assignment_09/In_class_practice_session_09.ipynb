{
  "nbformat": 4,
  "nbformat_minor": 0,
  "metadata": {
    "colab": {
      "name": "In class practice session_09.ipynb",
      "provenance": [],
      "authorship_tag": "ABX9TyNpSzfe6qRo88DaILvGkPgm",
      "include_colab_link": true
    },
    "kernelspec": {
      "name": "python3",
      "display_name": "Python 3"
    },
    "language_info": {
      "name": "python"
    }
  },
  "cells": [
    {
      "cell_type": "markdown",
      "metadata": {
        "id": "view-in-github",
        "colab_type": "text"
      },
      "source": [
        "<a href=\"https://colab.research.google.com/github/rakeshp1/data690_rakesh/blob/main/Assignment_09/In_class_practice_session_09.ipynb\" target=\"_parent\"><img src=\"https://colab.research.google.com/assets/colab-badge.svg\" alt=\"Open In Colab\"/></a>"
      ]
    },
    {
      "cell_type": "markdown",
      "metadata": {
        "id": "V3ZnZF2GRGOr"
      },
      "source": [
        "#In class practice 9\n",
        "- Name: Rakesh\n",
        "- Date: 10/28/2021"
      ]
    },
    {
      "cell_type": "markdown",
      "metadata": {
        "id": "gjgvFBntUcex"
      },
      "source": [
        "# New Section"
      ]
    },
    {
      "cell_type": "code",
      "metadata": {
        "id": "WiWUORrvLqZS"
      },
      "source": [
        "import math_function as mf"
      ],
      "execution_count": 3,
      "outputs": []
    },
    {
      "cell_type": "code",
      "metadata": {
        "colab": {
          "base_uri": "https://localhost:8080/"
        },
        "id": "kI2kmx2RR89l",
        "outputId": "01264205-b4c7-4d2e-ad29-086943e0245d"
      },
      "source": [
        "a = input(\"enter a number:\")"
      ],
      "execution_count": 4,
      "outputs": [
        {
          "name": "stdout",
          "output_type": "stream",
          "text": [
            "enter a number:100\n"
          ]
        }
      ]
    },
    {
      "cell_type": "code",
      "metadata": {
        "colab": {
          "base_uri": "https://localhost:8080/"
        },
        "id": "dHA7UyMTSBTa",
        "outputId": "5bb3251d-b419-4d95-a671-c30b46d330bc"
      },
      "source": [
        "print(a)"
      ],
      "execution_count": 5,
      "outputs": [
        {
          "output_type": "stream",
          "name": "stdout",
          "text": [
            "100\n"
          ]
        }
      ]
    },
    {
      "cell_type": "code",
      "metadata": {
        "colab": {
          "base_uri": "https://localhost:8080/"
        },
        "id": "vqcMA183SEM4",
        "outputId": "0d4cf080-f186-4374-aea3-3b5fd3d83b68"
      },
      "source": [
        "b = input(\"enter a number:\")"
      ],
      "execution_count": 6,
      "outputs": [
        {
          "name": "stdout",
          "output_type": "stream",
          "text": [
            "enter a number:200\n"
          ]
        }
      ]
    },
    {
      "cell_type": "code",
      "metadata": {
        "colab": {
          "base_uri": "https://localhost:8080/"
        },
        "id": "BEKh5C2dSOgC",
        "outputId": "31091253-2e89-4cf0-cb7d-0bc545f6f36f"
      },
      "source": [
        "print(b)"
      ],
      "execution_count": 7,
      "outputs": [
        {
          "output_type": "stream",
          "name": "stdout",
          "text": [
            "200\n"
          ]
        }
      ]
    },
    {
      "cell_type": "code",
      "metadata": {
        "colab": {
          "base_uri": "https://localhost:8080/"
        },
        "id": "uCszdj3_SRoR",
        "outputId": "1800d1a7-b518-4c1c-e45f-73559071d24c"
      },
      "source": [
        "c = mf.addition(a,b)\n",
        "print(c)"
      ],
      "execution_count": 8,
      "outputs": [
        {
          "output_type": "stream",
          "name": "stdout",
          "text": [
            "100200\n"
          ]
        }
      ]
    },
    {
      "cell_type": "code",
      "metadata": {
        "colab": {
          "base_uri": "https://localhost:8080/"
        },
        "id": "4Rpp5YxlSaRG",
        "outputId": "b4510ff0-da47-4be7-e791-187347d41d14"
      },
      "source": [
        "c=mf.addition(int(a),int(b))\n",
        "print(c)"
      ],
      "execution_count": 12,
      "outputs": [
        {
          "output_type": "stream",
          "name": "stdout",
          "text": [
            "73\n"
          ]
        }
      ]
    },
    {
      "cell_type": "code",
      "metadata": {
        "colab": {
          "base_uri": "https://localhost:8080/"
        },
        "id": "laniG_2UTBdI",
        "outputId": "05595f2a-d24c-442e-ee70-ac84ddf2aba3"
      },
      "source": [
        "a= '23'\n",
        "b= '50'\n",
        "c= mf.addition(a,b)\n",
        "print(c)"
      ],
      "execution_count": 10,
      "outputs": [
        {
          "output_type": "stream",
          "name": "stdout",
          "text": [
            "2350\n"
          ]
        }
      ]
    },
    {
      "cell_type": "code",
      "metadata": {
        "colab": {
          "base_uri": "https://localhost:8080/"
        },
        "id": "rrcBE4Y8VY8s",
        "outputId": "ad25356a-45ad-4bcd-8593-d4aada80eca1"
      },
      "source": [
        "a= 23\n",
        "b= 50\n",
        "c= mf.addition(a,b)\n",
        "print(c)"
      ],
      "execution_count": 11,
      "outputs": [
        {
          "output_type": "stream",
          "name": "stdout",
          "text": [
            "73\n"
          ]
        }
      ]
    },
    {
      "cell_type": "code",
      "metadata": {
        "id": "z1NgXMT5WISN"
      },
      "source": [
        ""
      ],
      "execution_count": 11,
      "outputs": []
    }
  ]
}