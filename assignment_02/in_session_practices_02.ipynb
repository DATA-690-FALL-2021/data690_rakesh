{
  "nbformat": 4,
  "nbformat_minor": 0,
  "metadata": {
    "colab": {
      "name": "in_session-practices_02.ipynb",
      "provenance": [],
      "authorship_tag": "ABX9TyN/tNXYU0DVtME8LplX//as",
      "include_colab_link": true
    },
    "kernelspec": {
      "name": "python3",
      "display_name": "Python 3"
    },
    "language_info": {
      "name": "python"
    }
  },
  "cells": [
    {
      "cell_type": "markdown",
      "metadata": {
        "id": "view-in-github",
        "colab_type": "text"
      },
      "source": [
        "<a href=\"https://colab.research.google.com/github/rakeshp1/data690_rakesh/blob/main/assignment_02/in_session_practices_02.ipynb\" target=\"_parent\"><img src=\"https://colab.research.google.com/assets/colab-badge.svg\" alt=\"Open In Colab\"/></a>"
      ]
    },
    {
      "cell_type": "markdown",
      "metadata": {
        "id": "W3zBP279-o8r"
      },
      "source": [
        "# in-session hands on practice\n",
        "\n",
        "Rakesh"
      ]
    },
    {
      "cell_type": "markdown",
      "metadata": {
        "id": "rtTugaxo_u8F"
      },
      "source": [
        "1. Simple Types"
      ]
    },
    {
      "cell_type": "code",
      "metadata": {
        "colab": {
          "base_uri": "https://localhost:8080/"
        },
        "id": "KcGfYhjU-UjM",
        "outputId": "66fcf368-f872-4f3d-a9b1-fd34d5c84dde"
      },
      "source": [
        "x = 5     # integer\n",
        "y = 0.5   # float\n",
        "s = \"Hello\"    # string, a collection of characters\n",
        "print(x, y, s)\n"
      ],
      "execution_count": null,
      "outputs": [
        {
          "output_type": "stream",
          "name": "stdout",
          "text": [
            "5 0.5 Hello\n"
          ]
        }
      ]
    },
    {
      "cell_type": "code",
      "metadata": {
        "colab": {
          "base_uri": "https://localhost:8080/"
        },
        "id": "QbQueMCBEiAn",
        "outputId": "767d51ad-4c06-4ea5-f87f-cb46ecd9bd25"
      },
      "source": [
        "type(x)"
      ],
      "execution_count": null,
      "outputs": [
        {
          "output_type": "execute_result",
          "data": {
            "text/plain": [
              "int"
            ]
          },
          "metadata": {},
          "execution_count": 22
        }
      ]
    },
    {
      "cell_type": "code",
      "metadata": {
        "colab": {
          "base_uri": "https://localhost:8080/"
        },
        "id": "Up5bkTRgEl2z",
        "outputId": "6c35e949-0bd1-475c-acfb-d16b7ad9eaea"
      },
      "source": [
        "type(s)\n"
      ],
      "execution_count": null,
      "outputs": [
        {
          "output_type": "execute_result",
          "data": {
            "text/plain": [
              "str"
            ]
          },
          "metadata": {},
          "execution_count": 23
        }
      ]
    },
    {
      "cell_type": "markdown",
      "metadata": {
        "id": "yTa-fG-a_nRd"
      },
      "source": [
        "## 2. Collection Type\n",
        "\n"
      ]
    },
    {
      "cell_type": "code",
      "metadata": {
        "colab": {
          "base_uri": "https://localhost:8080/"
        },
        "id": "6JdelxAS_srL",
        "outputId": "28e0c21d-9bba-4f5e-a692-e8947b79b87b"
      },
      "source": [
        "a_list = [1, 4, 7, 10] \n",
        "print(a_list)"
      ],
      "execution_count": null,
      "outputs": [
        {
          "output_type": "stream",
          "name": "stdout",
          "text": [
            "[1, 4, 7, 10]\n"
          ]
        }
      ]
    },
    {
      "cell_type": "code",
      "metadata": {
        "colab": {
          "base_uri": "https://localhost:8080/"
        },
        "id": "IqQF5VSwAVPc",
        "outputId": "937761e8-a632-4b2d-f17c-6112e50b2b85"
      },
      "source": [
        "type(a_list)"
      ],
      "execution_count": null,
      "outputs": [
        {
          "output_type": "execute_result",
          "data": {
            "text/plain": [
              "list"
            ]
          },
          "metadata": {},
          "execution_count": 25
        }
      ]
    },
    {
      "cell_type": "markdown",
      "metadata": {
        "id": "m9_LTW9jAgID"
      },
      "source": [
        "## 3. Loop"
      ]
    },
    {
      "cell_type": "code",
      "metadata": {
        "colab": {
          "base_uri": "https://localhost:8080/"
        },
        "id": "5AdSgEH1Ah7A",
        "outputId": "e6fe437b-ba6e-4a9a-b326-ce8baf380e7e"
      },
      "source": [
        "for i in a_list:\n",
        "    print(\"interger\", i)"
      ],
      "execution_count": null,
      "outputs": [
        {
          "output_type": "stream",
          "name": "stdout",
          "text": [
            "interger 1\n",
            "interger 4\n",
            "interger 7\n",
            "interger 10\n"
          ]
        }
      ]
    },
    {
      "cell_type": "markdown",
      "metadata": {
        "id": "3xMZ1X05BknF"
      },
      "source": [
        "4. conditions"
      ]
    },
    {
      "cell_type": "code",
      "metadata": {
        "colab": {
          "base_uri": "https://localhost:8080/"
        },
        "id": "oEiXF0b2BnTQ",
        "outputId": "cad820b9-402b-4aee-842b-1c2651bea711"
      },
      "source": [
        "print(10 % 2) #modula"
      ],
      "execution_count": null,
      "outputs": [
        {
          "output_type": "stream",
          "name": "stdout",
          "text": [
            "0\n"
          ]
        }
      ]
    },
    {
      "cell_type": "code",
      "metadata": {
        "colab": {
          "base_uri": "https://localhost:8080/"
        },
        "id": "DRRvN8ETCIkn",
        "outputId": "90d591e9-647e-43c4-e0c1-99cd8fdfb4d5"
      },
      "source": [
        "print(23%2) #modula"
      ],
      "execution_count": null,
      "outputs": [
        {
          "output_type": "stream",
          "name": "stdout",
          "text": [
            "1\n"
          ]
        }
      ]
    },
    {
      "cell_type": "code",
      "metadata": {
        "colab": {
          "base_uri": "https://localhost:8080/"
        },
        "id": "pJP9DqheCTd4",
        "outputId": "93bd1b56-70aa-4b07-a024-a43f72afe745"
      },
      "source": [
        "for i in a_list:\n",
        "    if i % 2 == 1:\n",
        "        print(\"Odd number\", i)"
      ],
      "execution_count": null,
      "outputs": [
        {
          "output_type": "stream",
          "name": "stdout",
          "text": [
            "Odd number 1\n",
            "Odd number 7\n"
          ]
        }
      ]
    },
    {
      "cell_type": "code",
      "metadata": {
        "id": "T-Plb7CHK6lE"
      },
      "source": [
        "## python build-in functions\n",
        "- range\n"
      ],
      "execution_count": null,
      "outputs": []
    },
    {
      "cell_type": "code",
      "metadata": {
        "colab": {
          "base_uri": "https://localhost:8080/"
        },
        "id": "4fdLEN52LCYH",
        "outputId": "f73505bc-6b6d-4425-ac72-878bdead9bac"
      },
      "source": [
        "for i in range(10,21,2):\n",
        "  print(i)"
      ],
      "execution_count": 11,
      "outputs": [
        {
          "output_type": "stream",
          "name": "stdout",
          "text": [
            "10\n",
            "12\n",
            "14\n",
            "16\n",
            "18\n",
            "20\n"
          ]
        }
      ]
    },
    {
      "cell_type": "code",
      "metadata": {
        "colab": {
          "base_uri": "https://localhost:8080/"
        },
        "id": "cYCe_WmIMEkF",
        "outputId": "7fff0283-481f-4a0b-a1f8-309a288550f6"
      },
      "source": [
        "for j in range(0,5):\n",
        "  print(j)"
      ],
      "execution_count": 10,
      "outputs": [
        {
          "output_type": "stream",
          "name": "stdout",
          "text": [
            "0\n",
            "1\n",
            "2\n",
            "3\n",
            "4\n"
          ]
        }
      ]
    },
    {
      "cell_type": "code",
      "metadata": {
        "colab": {
          "base_uri": "https://localhost:8080/",
          "height": 129
        },
        "id": "P67J4RcsMjmr",
        "outputId": "d1889b7f-9895-4775-fb86-fc764fdfac7d"
      },
      "source": [
        "print(list range(0,5))"
      ],
      "execution_count": 17,
      "outputs": [
        {
          "output_type": "error",
          "ename": "SyntaxError",
          "evalue": "ignored",
          "traceback": [
            "\u001b[0;36m  File \u001b[0;32m\"<ipython-input-17-a063caadac04>\"\u001b[0;36m, line \u001b[0;32m1\u001b[0m\n\u001b[0;31m    print(list range(0,5))\u001b[0m\n\u001b[0m                   ^\u001b[0m\n\u001b[0;31mSyntaxError\u001b[0m\u001b[0;31m:\u001b[0m invalid syntax\n"
          ]
        }
      ]
    },
    {
      "cell_type": "code",
      "metadata": {
        "colab": {
          "base_uri": "https://localhost:8080/"
        },
        "id": "TprwUO_dNC0s",
        "outputId": "4a59cb38-ac47-4c54-9723-bd9346cf1656"
      },
      "source": [
        "x = \"50\"\n",
        "type(x)"
      ],
      "execution_count": 18,
      "outputs": [
        {
          "output_type": "execute_result",
          "data": {
            "text/plain": [
              "str"
            ]
          },
          "metadata": {},
          "execution_count": 18
        }
      ]
    },
    {
      "cell_type": "code",
      "metadata": {
        "colab": {
          "base_uri": "https://localhost:8080/"
        },
        "id": "SOSGDOL8NNhL",
        "outputId": "12387757-849a-44d2-c9da-cb49e93456ce"
      },
      "source": [
        "y = int(x)\n",
        "type(y)"
      ],
      "execution_count": 19,
      "outputs": [
        {
          "output_type": "execute_result",
          "data": {
            "text/plain": [
              "int"
            ]
          },
          "metadata": {},
          "execution_count": 19
        }
      ]
    },
    {
      "cell_type": "code",
      "metadata": {
        "colab": {
          "base_uri": "https://localhost:8080/"
        },
        "id": "9ddZ1udcNZju",
        "outputId": "1a850a88-fab8-4536-a7a4-fc98f8942e85"
      },
      "source": [
        "print(x,y)"
      ],
      "execution_count": 20,
      "outputs": [
        {
          "output_type": "stream",
          "name": "stdout",
          "text": [
            "50 50\n"
          ]
        }
      ]
    },
    {
      "cell_type": "markdown",
      "metadata": {
        "id": "pP-NRm_4Njvc"
      },
      "source": [
        "## 6.Accepting user inputs"
      ]
    },
    {
      "cell_type": "code",
      "metadata": {
        "colab": {
          "base_uri": "https://localhost:8080/"
        },
        "id": "Fz42OJoJNxKy",
        "outputId": "e632eafc-0468-494a-fa50-eaaec88856fb"
      },
      "source": [
        "x = input(\"enter an integer:\")"
      ],
      "execution_count": 21,
      "outputs": [
        {
          "name": "stdout",
          "output_type": "stream",
          "text": [
            "enter an integer:10\n"
          ]
        }
      ]
    },
    {
      "cell_type": "code",
      "metadata": {
        "colab": {
          "base_uri": "https://localhost:8080/"
        },
        "id": "MCNCA2QNN_9S",
        "outputId": "573470e5-6866-485d-ec01-6438a8f43b1b"
      },
      "source": [
        "print(x)"
      ],
      "execution_count": 22,
      "outputs": [
        {
          "output_type": "stream",
          "name": "stdout",
          "text": [
            "10\n"
          ]
        }
      ]
    },
    {
      "cell_type": "code",
      "metadata": {
        "colab": {
          "base_uri": "https://localhost:8080/"
        },
        "id": "sIkRLPOMODPH",
        "outputId": "d6fbcae7-2762-4658-c129-1fd92bc8bb1d"
      },
      "source": [
        "type(x)"
      ],
      "execution_count": 23,
      "outputs": [
        {
          "output_type": "execute_result",
          "data": {
            "text/plain": [
              "str"
            ]
          },
          "metadata": {},
          "execution_count": 23
        }
      ]
    },
    {
      "cell_type": "code",
      "metadata": {
        "colab": {
          "base_uri": "https://localhost:8080/"
        },
        "id": "NF1rs6sKOIdd",
        "outputId": "df2439e0-0549-4e73-fdff-2ac4c7503b68"
      },
      "source": [
        "x = input(\"enter an integer:\")\n"
      ],
      "execution_count": 25,
      "outputs": [
        {
          "name": "stdout",
          "output_type": "stream",
          "text": [
            "enter an integer:rakesh\n"
          ]
        }
      ]
    },
    {
      "cell_type": "code",
      "metadata": {
        "colab": {
          "base_uri": "https://localhost:8080/"
        },
        "id": "Za8MBOD8OOTy",
        "outputId": "7c75cec0-2f74-484a-8d42-e5c69e78664b"
      },
      "source": [
        "print(x)"
      ],
      "execution_count": 26,
      "outputs": [
        {
          "output_type": "stream",
          "name": "stdout",
          "text": [
            "rakesh\n"
          ]
        }
      ]
    },
    {
      "cell_type": "code",
      "metadata": {
        "id": "CLqdgYu4OTjb"
      },
      "source": [
        ""
      ],
      "execution_count": null,
      "outputs": []
    },
    {
      "cell_type": "markdown",
      "metadata": {
        "id": "h0iT7bS7OZVC"
      },
      "source": [
        "## 7. Exception handling"
      ]
    },
    {
      "cell_type": "code",
      "metadata": {
        "colab": {
          "base_uri": "https://localhost:8080/",
          "height": 180
        },
        "id": "RgfxtqW6Ohvo",
        "outputId": "cca9a990-35b8-4446-bfa0-456f4089b8b1"
      },
      "source": [
        "y = int(x)\n",
        "print(y)"
      ],
      "execution_count": 27,
      "outputs": [
        {
          "output_type": "error",
          "ename": "ValueError",
          "evalue": "ignored",
          "traceback": [
            "\u001b[0;31m---------------------------------------------------------------------------\u001b[0m",
            "\u001b[0;31mValueError\u001b[0m                                Traceback (most recent call last)",
            "\u001b[0;32m<ipython-input-27-049714fa7447>\u001b[0m in \u001b[0;36m<module>\u001b[0;34m()\u001b[0m\n\u001b[0;32m----> 1\u001b[0;31m \u001b[0my\u001b[0m \u001b[0;34m=\u001b[0m \u001b[0mint\u001b[0m\u001b[0;34m(\u001b[0m\u001b[0mx\u001b[0m\u001b[0;34m)\u001b[0m\u001b[0;34m\u001b[0m\u001b[0;34m\u001b[0m\u001b[0m\n\u001b[0m\u001b[1;32m      2\u001b[0m \u001b[0mprint\u001b[0m\u001b[0;34m(\u001b[0m\u001b[0my\u001b[0m\u001b[0;34m)\u001b[0m\u001b[0;34m\u001b[0m\u001b[0;34m\u001b[0m\u001b[0m\n",
            "\u001b[0;31mValueError\u001b[0m: invalid literal for int() with base 10: 'rakesh'"
          ]
        }
      ]
    },
    {
      "cell_type": "code",
      "metadata": {
        "colab": {
          "base_uri": "https://localhost:8080/"
        },
        "id": "zl6by0xuOvv1",
        "outputId": "727a7cad-eb05-4055-a678-aa2227c9049b"
      },
      "source": [
        "y = int(\"50\")\n",
        "print(y)"
      ],
      "execution_count": 28,
      "outputs": [
        {
          "output_type": "stream",
          "name": "stdout",
          "text": [
            "50\n"
          ]
        }
      ]
    },
    {
      "cell_type": "code",
      "metadata": {
        "id": "DKguvWUnO1GG"
      },
      "source": [
        "x = input(\"Please enter an integer:\")\n",
        "try:\n",
        "    y = int(x)\n",
        "    print(\"got integer:\", y)\n",
        "except:\n",
        "    print(\"Unable to convert the user input to an integer\")\n"
      ],
      "execution_count": null,
      "outputs": []
    },
    {
      "cell_type": "markdown",
      "metadata": {
        "id": "uVRcUwMEP2oP"
      },
      "source": [
        "## infinite loop"
      ]
    },
    {
      "cell_type": "code",
      "metadata": {
        "colab": {
          "base_uri": "https://localhost:8080/",
          "height": 129
        },
        "id": "EkoXW550P6we",
        "outputId": "a0aa5823-7a57-400b-aaec-740a8e5c242a"
      },
      "source": [
        "while True:\n",
        "  x = input(\"please enter an integer:\" )\n",
        "  try:\n",
        "    y = int(x)\n",
        "print(\"got integer:\",y)\n",
        "break\n",
        "except:\n",
        "  print(\"unable to convert\")\n"
      ],
      "execution_count": 33,
      "outputs": [
        {
          "output_type": "error",
          "ename": "IndentationError",
          "evalue": "ignored",
          "traceback": [
            "\u001b[0;36m  File \u001b[0;32m\"<ipython-input-33-02ceab067ec2>\"\u001b[0;36m, line \u001b[0;32m5\u001b[0m\n\u001b[0;31m    print(\"got integer:\",y)\u001b[0m\n\u001b[0m                           ^\u001b[0m\n\u001b[0;31mIndentationError\u001b[0m\u001b[0;31m:\u001b[0m unexpected unindent\n"
          ]
        }
      ]
    },
    {
      "cell_type": "code",
      "metadata": {
        "id": "9ZhlpjMbXa0y"
      },
      "source": [
        "the_list = []\n",
        "\n",
        "for i in range(0,3):\n",
        "    while True:\n",
        "        x = input(\"Please enter an integer:\")\n",
        "        try:\n",
        "            y = int(x)\n",
        "            the_list.append(y)\n",
        "            print(\"got integer:\", y)\n",
        "            break\n",
        "        except:\n",
        "            print(\"You must enter an integer. Please try again.\")\n",
        "\n",
        "\n",
        "print(\"You have entered:\", the_list)"
      ],
      "execution_count": null,
      "outputs": []
    },
    {
      "cell_type": "code",
      "metadata": {
        "id": "a_dbl04mXvBE"
      },
      "source": [
        "total = 0\n",
        "\n",
        "for i in the_list:\n",
        "    total += i    # total = total + i\n",
        "\n",
        "print(\"total = \", total)"
      ],
      "execution_count": null,
      "outputs": []
    },
    {
      "cell_type": "code",
      "metadata": {
        "id": "WEYXtCXPXvxL"
      },
      "source": [
        "\n",
        "mean = total / len(the_list)\n",
        "print(mean)"
      ],
      "execution_count": null,
      "outputs": []
    },
    {
      "cell_type": "code",
      "metadata": {
        "id": "tqAyh6KzXyaD"
      },
      "source": [
        ""
      ],
      "execution_count": null,
      "outputs": []
    }
  ]
}