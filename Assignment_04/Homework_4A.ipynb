{
  "nbformat": 4,
  "nbformat_minor": 0,
  "metadata": {
    "colab": {
      "name": "Homework_4A.ipynb",
      "provenance": [],
      "collapsed_sections": [],
      "authorship_tag": "ABX9TyN32DvnjmqXreRI3aM6KaqY",
      "include_colab_link": true
    },
    "kernelspec": {
      "name": "python3",
      "display_name": "Python 3"
    },
    "language_info": {
      "name": "python"
    }
  },
  "cells": [
    {
      "cell_type": "markdown",
      "metadata": {
        "id": "view-in-github",
        "colab_type": "text"
      },
      "source": [
        "<a href=\"https://colab.research.google.com/github/rakeshp1/data690_rakesh/blob/main/Assignment_04/Homework_4A.ipynb\" target=\"_parent\"><img src=\"https://colab.research.google.com/assets/colab-badge.svg\" alt=\"Open In Colab\"/></a>"
      ]
    },
    {
      "cell_type": "markdown",
      "metadata": {
        "id": "bEPpXc4rLnf-"
      },
      "source": [
        "# Assignment_04_part_A\n",
        "# Rakesh\n",
        "# 690 Fall 2021 - Dr.Wang"
      ]
    },
    {
      "cell_type": "markdown",
      "metadata": {
        "id": "Dbyil_koL_Bv"
      },
      "source": [
        "### 1. Write code to open the text file census_costs.txt and read all lines into a list named \"line_list\". Print line_list.\n"
      ]
    },
    {
      "cell_type": "code",
      "metadata": {
        "colab": {
          "base_uri": "https://localhost:8080/"
        },
        "id": "oPP3YnFdQ7dX",
        "outputId": "98034552-61e2-4d61-c6fa-610fb2b4b648"
      },
      "source": [
        "with open(\"census_costs.txt\") as file_in:\n",
        "    line_list = []\n",
        "    for line in file_in:\n",
        "        line_list.append(line)\n",
        "print(line_list)"
      ],
      "execution_count": 21,
      "outputs": [
        {
          "output_type": "stream",
          "name": "stdout",
          "text": [
            "['Source: https://www.genealogybranches.com/censuscosts.html\\n', 'Census Year\\tTotal Population\\tCensus Cost\\tAverage Cost Per Person\\n', '1790\\t3,929,214\\t$44,377\\t1.13 cents\\n', '1800\\t5,308,483\\t$66,109\\t1.24 cents\\n', '1810\\t7,239,881\\t$178,445\\t2.46 cents\\n', '1820\\t9,633,822\\t$208,526\\t2.16 cents\\n', '1830\\t12,866,020\\t$378,545\\t2.94 cents\\n', '1840\\t17,069,458\\t$833,371\\t4.88 cents\\n', '1850\\t23,191,876\\t$1,423,351\\t6.14 cents\\n', '1860\\t31,443,321\\t$1,969,377\\t6.26 cents\\n', '1870\\t38,558,371\\t$3,421,198\\t8.87 cents\\n', '1880\\t50,155,783\\t$5,790,678\\t11.54 cents\\n', '1890\\t62,979,766\\t$11,547,127\\t18.33 cents\\n', '1900\\t76,303,387\\t$11,854,000\\t15.54 cents\\n', '1910\\t91,972,266\\t$15,968,000\\t17.07 cents\\n', '1920\\t105,710,620\\t$25,117,000\\t23.76 cents\\n', '1930\\t122,775,046\\t$40,156,000\\t32.71 cents\\n', '1940\\t131,669,275\\t$67,527,000\\t51.29 cents\\n', '1950\\t151,325,798\\t$91,462,000\\t60.44 cents\\n', '1960\\t179,323,175\\t$127,934,000\\t71.34 cents\\n', '1970\\t203,302,031\\t$247,653,000\\t$1.22\\n', '1980\\t226,542,199\\t$1,078,488,000\\t$4.76\\n', '1990\\t248,718,301\\t$2,492,830,000\\t$10.02\\n', '2000\\t281,421,906\\t$4.5 Billion\\t$15.99\\n', '2010*\\t308,745,538\\t$13 Billion\\t$42.11\\n']\n"
          ]
        }
      ]
    },
    {
      "cell_type": "markdown",
      "metadata": {
        "id": "gZblNBlXYlU6"
      },
      "source": [
        "### 2. Extract the first two lines and put them in a different list named \"top2_list\". You will need to use them later. Print the top2_list.\n"
      ]
    },
    {
      "cell_type": "code",
      "metadata": {
        "colab": {
          "base_uri": "https://localhost:8080/"
        },
        "id": "7nxaiKSFSCnl",
        "outputId": "bbec6043-1e78-4a5f-ab19-8d949dd71986"
      },
      "source": [
        "top2_list=line_list[:2]\n",
        "print(top2_list)"
      ],
      "execution_count": 22,
      "outputs": [
        {
          "output_type": "stream",
          "name": "stdout",
          "text": [
            "['Source: https://www.genealogybranches.com/censuscosts.html\\n', 'Census Year\\tTotal Population\\tCensus Cost\\tAverage Cost Per Person\\n']\n"
          ]
        }
      ]
    },
    {
      "cell_type": "markdown",
      "metadata": {
        "id": "ZydHGe2oYrSr"
      },
      "source": [
        "### 3. Put the rest of the lines (containing useful data elements) in a new list named \"data_list\". Print data_list.\n"
      ]
    },
    {
      "cell_type": "code",
      "metadata": {
        "colab": {
          "base_uri": "https://localhost:8080/"
        },
        "id": "B_9_kZhBSa8i",
        "outputId": "743e7953-ddf4-4fa5-f495-476e21e7f632"
      },
      "source": [
        "data_list=line_list[2:]\n",
        "print(data_list)"
      ],
      "execution_count": 23,
      "outputs": [
        {
          "output_type": "stream",
          "name": "stdout",
          "text": [
            "['1790\\t3,929,214\\t$44,377\\t1.13 cents\\n', '1800\\t5,308,483\\t$66,109\\t1.24 cents\\n', '1810\\t7,239,881\\t$178,445\\t2.46 cents\\n', '1820\\t9,633,822\\t$208,526\\t2.16 cents\\n', '1830\\t12,866,020\\t$378,545\\t2.94 cents\\n', '1840\\t17,069,458\\t$833,371\\t4.88 cents\\n', '1850\\t23,191,876\\t$1,423,351\\t6.14 cents\\n', '1860\\t31,443,321\\t$1,969,377\\t6.26 cents\\n', '1870\\t38,558,371\\t$3,421,198\\t8.87 cents\\n', '1880\\t50,155,783\\t$5,790,678\\t11.54 cents\\n', '1890\\t62,979,766\\t$11,547,127\\t18.33 cents\\n', '1900\\t76,303,387\\t$11,854,000\\t15.54 cents\\n', '1910\\t91,972,266\\t$15,968,000\\t17.07 cents\\n', '1920\\t105,710,620\\t$25,117,000\\t23.76 cents\\n', '1930\\t122,775,046\\t$40,156,000\\t32.71 cents\\n', '1940\\t131,669,275\\t$67,527,000\\t51.29 cents\\n', '1950\\t151,325,798\\t$91,462,000\\t60.44 cents\\n', '1960\\t179,323,175\\t$127,934,000\\t71.34 cents\\n', '1970\\t203,302,031\\t$247,653,000\\t$1.22\\n', '1980\\t226,542,199\\t$1,078,488,000\\t$4.76\\n', '1990\\t248,718,301\\t$2,492,830,000\\t$10.02\\n', '2000\\t281,421,906\\t$4.5 Billion\\t$15.99\\n', '2010*\\t308,745,538\\t$13 Billion\\t$42.11\\n']\n"
          ]
        }
      ]
    },
    {
      "cell_type": "markdown",
      "metadata": {
        "id": "iDUpet4EYzDj"
      },
      "source": [
        "### 4. Extract the column \"Census Year\" from data_list and assign them to a list named year_list. Remove the \"\" from the last element \"2010\". Print the cleansed year_list.\n"
      ]
    },
    {
      "cell_type": "code",
      "metadata": {
        "colab": {
          "base_uri": "https://localhost:8080/"
        },
        "id": "KZ4_5KZwTRJV",
        "outputId": "6574a927-44a3-41f4-e476-9f2be9a88c3c"
      },
      "source": [
        "year_list=[element.split('\\t')[0] for element in data_list]\n",
        "year_list.pop()\n",
        "print(year_list)"
      ],
      "execution_count": 24,
      "outputs": [
        {
          "output_type": "stream",
          "name": "stdout",
          "text": [
            "['1790', '1800', '1810', '1820', '1830', '1840', '1850', '1860', '1870', '1880', '1890', '1900', '1910', '1920', '1930', '1940', '1950', '1960', '1970', '1980', '1990', '2000']\n"
          ]
        }
      ]
    },
    {
      "cell_type": "markdown",
      "metadata": {
        "id": "-tXcLzBwY72W"
      },
      "source": [
        "### 5. Extract the \"Total Population\" column from the data_list and assign them to a list named \"pop_list\". Remove the \",\" from the numbers since Python doesn't recognize them. Print the cleansed \"pop_list\".\n"
      ]
    },
    {
      "cell_type": "code",
      "metadata": {
        "colab": {
          "base_uri": "https://localhost:8080/"
        },
        "id": "jn1pLv7aUXYI",
        "outputId": "df6a4097-ea10-4459-870c-ba7ba573685e"
      },
      "source": [
        "pop_list=[element.split('\\t')[1] for element in data_list]\n",
        "pop_list=[element.replace(',', '') for element in pop_list]\n",
        "print(pop_list)"
      ],
      "execution_count": 25,
      "outputs": [
        {
          "output_type": "stream",
          "name": "stdout",
          "text": [
            "['3929214', '5308483', '7239881', '9633822', '12866020', '17069458', '23191876', '31443321', '38558371', '50155783', '62979766', '76303387', '91972266', '105710620', '122775046', '131669275', '151325798', '179323175', '203302031', '226542199', '248718301', '281421906', '308745538']\n"
          ]
        }
      ]
    },
    {
      "cell_type": "markdown",
      "metadata": {
        "id": "vRIZ0AfyZEiC"
      },
      "source": [
        "### 6. Extract the \"Census Cost\" column from the data_list and assign them to a list named \"cost_list\". Remove the \",\", and \"$\", and \"Billion\". Make sure to add the \"0\"s to the numbers from which you removed \"Billion\". Print the cleansed cost_list.\n"
      ]
    },
    {
      "cell_type": "code",
      "metadata": {
        "colab": {
          "base_uri": "https://localhost:8080/"
        },
        "id": "CZ3tfwKiWTPp",
        "outputId": "4663d2fe-bf6e-47b3-956e-fc61aad4fa10"
      },
      "source": [
        "cost_list=[element.split('\\t')[2] for element in data_list]\n",
        "cost_list=[element.replace('$', '') for element in cost_list]\n",
        "cost_list=[element.replace(',', '') for element in cost_list]\n",
        "cost_list=[element.replace(' ', '') for element in cost_list]\n",
        "cost_list=[element.replace('.', '') for element in cost_list]\n",
        "cost_list=[element.replace('Billion', '000000000') for element in cost_list]\n",
        "print(cost_list)"
      ],
      "execution_count": 26,
      "outputs": [
        {
          "output_type": "stream",
          "name": "stdout",
          "text": [
            "['44377', '66109', '178445', '208526', '378545', '833371', '1423351', '1969377', '3421198', '5790678', '11547127', '11854000', '15968000', '25117000', '40156000', '67527000', '91462000', '127934000', '247653000', '1078488000', '2492830000', '45000000000', '13000000000']\n"
          ]
        }
      ]
    },
    {
      "cell_type": "markdown",
      "metadata": {
        "id": "LiAl-64aZIbX"
      },
      "source": [
        "### 7. Extract the \"Average Cost per Person\" column from the data_list and assign them to a list named \"avg_list\". Remove the \"cents\", and \"$\". Make sure to divide the numbers in cents by 100 so that all numbers are measured in dollar. Print the cleansed avg_list.\n"
      ]
    },
    {
      "cell_type": "code",
      "metadata": {
        "colab": {
          "base_uri": "https://localhost:8080/"
        },
        "id": "R_YfilLaXGEW",
        "outputId": "116b9066-2f01-44cc-825f-1ce2a9883eff"
      },
      "source": [
        "avg_list=[element.split('\\t')[3] for element in data_list]\n",
        "avg_list=[element.replace('cents', '') for element in avg_list]\n",
        "avg_list=[element.replace(' ', '') for element in avg_list]\n",
        "avg_list=[element.replace('\\n', '') for element in avg_list]\n",
        "avg_list1=avg_list[:-5]\n",
        "avg_list2=avg_list[-5:]\n",
        "avg_list2=[element.replace('$', '') for element in avg_list2]\n",
        "avg_list2=[float(element) for element in avg_list2]\n",
        "\n",
        "avg_list1=[float(element) for element in avg_list1]\n",
        "\n",
        "avg_list1=[element/100 for element in avg_list1]\n",
        "avg_list=avg_list1+avg_list2\n",
        "print(avg_list)"
      ],
      "execution_count": 27,
      "outputs": [
        {
          "output_type": "stream",
          "name": "stdout",
          "text": [
            "[0.0113, 0.0124, 0.0246, 0.0216, 0.0294, 0.048799999999999996, 0.061399999999999996, 0.0626, 0.08869999999999999, 0.11539999999999999, 0.1833, 0.15539999999999998, 0.1707, 0.2376, 0.3271, 0.5129, 0.6043999999999999, 0.7134, 1.22, 4.76, 10.02, 15.99, 42.11]\n"
          ]
        }
      ]
    },
    {
      "cell_type": "markdown",
      "metadata": {
        "id": "_eNYIa1RZUuz"
      },
      "source": [
        "### 8. Coalesce the cleansed data and save them to a text file named \"census_cost.csv\". The new file should look similar to the original source file except that it is in comma-delimited format and the numbers have been cleansed. The top two lines from the original file should be retained in the new file.\n"
      ]
    },
    {
      "cell_type": "code",
      "metadata": {
        "id": "l2KMJjvYZ-ot"
      },
      "source": [
        "avg_list=[str(element) for element in avg_list]\n",
        "f_list=[list(a) for a in zip(year_list, pop_list, cost_list, avg_list)]"
      ],
      "execution_count": 28,
      "outputs": []
    },
    {
      "cell_type": "code",
      "metadata": {
        "id": "634PZo-w64qS"
      },
      "source": [
        "with open('census_cost.csv', 'w') as f:\n",
        "    for item in top2_list:\n",
        "        f.write(\"%s\\n\" % item)"
      ],
      "execution_count": 29,
      "outputs": []
    },
    {
      "cell_type": "code",
      "metadata": {
        "id": "wytKueBvxvFO"
      },
      "source": [
        "for i in range(len(f_list)) :\n",
        "  for j in range(len(f_list[i])) :\n",
        "        print(f_list[i][j], end=\" \",  file=open(\"census_cost.csv\", \"a\"))\n",
        "  print(\"\\n\",file=open(\"census_cost.csv\", \"a\") )"
      ],
      "execution_count": 30,
      "outputs": []
    },
    {
      "cell_type": "markdown",
      "metadata": {
        "id": "dBt1V05PZpeR"
      },
      "source": [
        "### 9. Write code to open the newly-created file \"census_cost.csv\", read all lines and display them. How does it look?\n"
      ]
    },
    {
      "cell_type": "code",
      "metadata": {
        "colab": {
          "base_uri": "https://localhost:8080/"
        },
        "id": "MGQ5-EjAZ3VU",
        "outputId": "e2c9f4ae-eff1-493a-ff14-871ed615d352"
      },
      "source": [
        "with open(\"census_cost.csv\") as file_in:\n",
        "    for line in file_in:\n",
        "        print(line)"
      ],
      "execution_count": 31,
      "outputs": [
        {
          "output_type": "stream",
          "name": "stdout",
          "text": [
            "Source: https://www.genealogybranches.com/censuscosts.html\n",
            "\n",
            "\n",
            "\n",
            "Census Year\tTotal Population\tCensus Cost\tAverage Cost Per Person\n",
            "\n",
            "\n",
            "\n",
            "1790 3929214 44377 0.0113 \n",
            "\n",
            "\n",
            "\n",
            "1800 5308483 66109 0.0124 \n",
            "\n",
            "\n",
            "\n",
            "1810 7239881 178445 0.0246 \n",
            "\n",
            "\n",
            "\n",
            "1820 9633822 208526 0.0216 \n",
            "\n",
            "\n",
            "\n",
            "1830 12866020 378545 0.0294 \n",
            "\n",
            "\n",
            "\n",
            "1840 17069458 833371 0.048799999999999996 \n",
            "\n",
            "\n",
            "\n",
            "1850 23191876 1423351 0.061399999999999996 \n",
            "\n",
            "\n",
            "\n",
            "1860 31443321 1969377 0.0626 \n",
            "\n",
            "\n",
            "\n",
            "1870 38558371 3421198 0.08869999999999999 \n",
            "\n",
            "\n",
            "\n",
            "1880 50155783 5790678 0.11539999999999999 \n",
            "\n",
            "\n",
            "\n",
            "1890 62979766 11547127 0.1833 \n",
            "\n",
            "\n",
            "\n",
            "1900 76303387 11854000 0.15539999999999998 \n",
            "\n",
            "\n",
            "\n",
            "1910 91972266 15968000 0.1707 \n",
            "\n",
            "\n",
            "\n",
            "1920 105710620 25117000 0.2376 \n",
            "\n",
            "\n",
            "\n",
            "1930 122775046 40156000 0.3271 \n",
            "\n",
            "\n",
            "\n",
            "1940 131669275 67527000 0.5129 \n",
            "\n",
            "\n",
            "\n",
            "1950 151325798 91462000 0.6043999999999999 \n",
            "\n",
            "\n",
            "\n",
            "1960 179323175 127934000 0.7134 \n",
            "\n",
            "\n",
            "\n",
            "1970 203302031 247653000 1.22 \n",
            "\n",
            "\n",
            "\n",
            "1980 226542199 1078488000 4.76 \n",
            "\n",
            "\n",
            "\n",
            "1990 248718301 2492830000 10.02 \n",
            "\n",
            "\n",
            "\n",
            "2000 281421906 45000000000 15.99 \n",
            "\n",
            "\n",
            "\n"
          ]
        }
      ]
    }
  ]
}